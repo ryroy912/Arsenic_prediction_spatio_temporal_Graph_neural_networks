{
 "cells": [
  {
   "cell_type": "code",
   "execution_count": 1,
   "id": "9a0a7f30",
   "metadata": {},
   "outputs": [],
   "source": [
    "import numpy as np\n",
    "from tensorflow.keras.models import Sequential\n",
    "from tensorflow.keras.layers import LSTM\n",
    "from tensorflow.keras.layers import Dense, Dropout\n",
    "import pandas as pd\n",
    "from matplotlib import pyplot as plt\n",
    "from sklearn.preprocessing import StandardScaler\n",
    "import seaborn as sns\n",
    "from sklearn.compose import ColumnTransformer\n",
    "from sklearn.preprocessing import StandardScaler\n",
    "import tensorflow as tf\n",
    "import matplotlib.pyplot as plt\n",
    "import numpy as np\n",
    "import ipywidgets as widgets \n",
    "from IPython.display import display \n",
    "import pylab\n",
    "from sklearn.compose import ColumnTransformer\n",
    "import sklearn\n",
    "import keras.layers as kl\n",
    "from numpy import genfromtxt\n",
    "from numpy import asarray\n",
    "from numpy import savetxt\n",
    "import networkx as nx"
   ]
  },
  {
   "cell_type": "code",
   "execution_count": 2,
   "id": "bd0966d9",
   "metadata": {},
   "outputs": [],
   "source": [
    "df_arsenic_prelim = pd.read_csv (r'C:\\Users\\Ryan\\Desktop\\Summer research\\Data\\Prelim-data\\as.csv')"
   ]
  },
  {
   "cell_type": "code",
   "execution_count": 3,
   "id": "064bcbe6",
   "metadata": {},
   "outputs": [
    {
     "data": {
      "text/html": [
       "<div>\n",
       "<style scoped>\n",
       "    .dataframe tbody tr th:only-of-type {\n",
       "        vertical-align: middle;\n",
       "    }\n",
       "\n",
       "    .dataframe tbody tr th {\n",
       "        vertical-align: top;\n",
       "    }\n",
       "\n",
       "    .dataframe thead th {\n",
       "        text-align: right;\n",
       "    }\n",
       "</style>\n",
       "<table border=\"1\" class=\"dataframe\">\n",
       "  <thead>\n",
       "    <tr style=\"text-align: right;\">\n",
       "      <th></th>\n",
       "      <th>SiteID</th>\n",
       "      <th>As</th>\n",
       "      <th>X_Albers</th>\n",
       "      <th>Y_Albers</th>\n",
       "      <th>WellDepth</th>\n",
       "      <th>AvgAnnualN_CAFO_1992_97</th>\n",
       "      <th>AvgAnnualN_Fert_1992_2001</th>\n",
       "      <th>AWC</th>\n",
       "      <th>AWS25</th>\n",
       "      <th>BFI</th>\n",
       "      <th>...</th>\n",
       "      <th>Transmiss</th>\n",
       "      <th>TWI</th>\n",
       "      <th>VRT</th>\n",
       "      <th>VWC</th>\n",
       "      <th>YngWtrMeanAge</th>\n",
       "      <th>YngWtrMeanAge_VertMean</th>\n",
       "      <th>DTW</th>\n",
       "      <th>Data</th>\n",
       "      <th>as10</th>\n",
       "      <th>Pred</th>\n",
       "    </tr>\n",
       "  </thead>\n",
       "  <tbody>\n",
       "    <tr>\n",
       "      <th>0</th>\n",
       "      <td>1</td>\n",
       "      <td>6.0</td>\n",
       "      <td>924000.0</td>\n",
       "      <td>2006000.0</td>\n",
       "      <td>105.912831</td>\n",
       "      <td>16.678065</td>\n",
       "      <td>48.483771</td>\n",
       "      <td>0.141277</td>\n",
       "      <td>5.384314</td>\n",
       "      <td>21.0</td>\n",
       "      <td>...</td>\n",
       "      <td>143.362904</td>\n",
       "      <td>9.902970</td>\n",
       "      <td>5.956547</td>\n",
       "      <td>0.304000</td>\n",
       "      <td>23.158235</td>\n",
       "      <td>17.689265</td>\n",
       "      <td>3.082386</td>\n",
       "      <td>train</td>\n",
       "      <td>0.0</td>\n",
       "      <td>0.00</td>\n",
       "    </tr>\n",
       "    <tr>\n",
       "      <th>1</th>\n",
       "      <td>2</td>\n",
       "      <td>1.0</td>\n",
       "      <td>892000.0</td>\n",
       "      <td>2080000.0</td>\n",
       "      <td>54.861323</td>\n",
       "      <td>7.688502</td>\n",
       "      <td>50.638261</td>\n",
       "      <td>0.217775</td>\n",
       "      <td>7.311919</td>\n",
       "      <td>37.0</td>\n",
       "      <td>...</td>\n",
       "      <td>137.152244</td>\n",
       "      <td>9.067347</td>\n",
       "      <td>4.196766</td>\n",
       "      <td>0.343552</td>\n",
       "      <td>22.015855</td>\n",
       "      <td>17.739371</td>\n",
       "      <td>3.076582</td>\n",
       "      <td>train</td>\n",
       "      <td>0.0</td>\n",
       "      <td>0.06</td>\n",
       "    </tr>\n",
       "    <tr>\n",
       "      <th>2</th>\n",
       "      <td>3</td>\n",
       "      <td>13.0</td>\n",
       "      <td>886000.0</td>\n",
       "      <td>2066000.0</td>\n",
       "      <td>34.745504</td>\n",
       "      <td>6.245885</td>\n",
       "      <td>43.503552</td>\n",
       "      <td>0.140200</td>\n",
       "      <td>5.400000</td>\n",
       "      <td>33.0</td>\n",
       "      <td>...</td>\n",
       "      <td>121.646066</td>\n",
       "      <td>11.470297</td>\n",
       "      <td>17.558480</td>\n",
       "      <td>0.270166</td>\n",
       "      <td>17.762669</td>\n",
       "      <td>15.950136</td>\n",
       "      <td>5.645093</td>\n",
       "      <td>train</td>\n",
       "      <td>1.0</td>\n",
       "      <td>0.83</td>\n",
       "    </tr>\n",
       "    <tr>\n",
       "      <th>3</th>\n",
       "      <td>4</td>\n",
       "      <td>1.0</td>\n",
       "      <td>898000.0</td>\n",
       "      <td>2076000.0</td>\n",
       "      <td>59.737885</td>\n",
       "      <td>4.900404</td>\n",
       "      <td>34.132068</td>\n",
       "      <td>0.154753</td>\n",
       "      <td>5.318469</td>\n",
       "      <td>37.0</td>\n",
       "      <td>...</td>\n",
       "      <td>298.232568</td>\n",
       "      <td>9.815662</td>\n",
       "      <td>1.231952</td>\n",
       "      <td>0.328985</td>\n",
       "      <td>27.709500</td>\n",
       "      <td>17.589893</td>\n",
       "      <td>1.044807</td>\n",
       "      <td>train</td>\n",
       "      <td>0.0</td>\n",
       "      <td>0.03</td>\n",
       "    </tr>\n",
       "    <tr>\n",
       "      <th>4</th>\n",
       "      <td>5</td>\n",
       "      <td>2.0</td>\n",
       "      <td>896000.0</td>\n",
       "      <td>2062000.0</td>\n",
       "      <td>45.717769</td>\n",
       "      <td>6.511748</td>\n",
       "      <td>45.355325</td>\n",
       "      <td>0.140200</td>\n",
       "      <td>5.400000</td>\n",
       "      <td>28.0</td>\n",
       "      <td>...</td>\n",
       "      <td>97.123320</td>\n",
       "      <td>9.435353</td>\n",
       "      <td>21.539828</td>\n",
       "      <td>0.268193</td>\n",
       "      <td>19.238581</td>\n",
       "      <td>14.557619</td>\n",
       "      <td>8.535328</td>\n",
       "      <td>train</td>\n",
       "      <td>0.0</td>\n",
       "      <td>0.01</td>\n",
       "    </tr>\n",
       "    <tr>\n",
       "      <th>...</th>\n",
       "      <td>...</td>\n",
       "      <td>...</td>\n",
       "      <td>...</td>\n",
       "      <td>...</td>\n",
       "      <td>...</td>\n",
       "      <td>...</td>\n",
       "      <td>...</td>\n",
       "      <td>...</td>\n",
       "      <td>...</td>\n",
       "      <td>...</td>\n",
       "      <td>...</td>\n",
       "      <td>...</td>\n",
       "      <td>...</td>\n",
       "      <td>...</td>\n",
       "      <td>...</td>\n",
       "      <td>...</td>\n",
       "      <td>...</td>\n",
       "      <td>...</td>\n",
       "      <td>...</td>\n",
       "      <td>...</td>\n",
       "      <td>...</td>\n",
       "    </tr>\n",
       "    <tr>\n",
       "      <th>9997</th>\n",
       "      <td>9998</td>\n",
       "      <td>1.0</td>\n",
       "      <td>610000.0</td>\n",
       "      <td>2484000.0</td>\n",
       "      <td>19.506248</td>\n",
       "      <td>8.030330</td>\n",
       "      <td>10.843744</td>\n",
       "      <td>0.159466</td>\n",
       "      <td>4.090000</td>\n",
       "      <td>59.0</td>\n",
       "      <td>...</td>\n",
       "      <td>115.224598</td>\n",
       "      <td>13.790910</td>\n",
       "      <td>0.416030</td>\n",
       "      <td>0.344196</td>\n",
       "      <td>8.765928</td>\n",
       "      <td>16.686542</td>\n",
       "      <td>0.188501</td>\n",
       "      <td>test</td>\n",
       "      <td>0.0</td>\n",
       "      <td>0.11</td>\n",
       "    </tr>\n",
       "    <tr>\n",
       "      <th>9998</th>\n",
       "      <td>9999</td>\n",
       "      <td>6.0</td>\n",
       "      <td>616000.0</td>\n",
       "      <td>2526000.0</td>\n",
       "      <td>24.992380</td>\n",
       "      <td>0.158934</td>\n",
       "      <td>0.199489</td>\n",
       "      <td>0.126106</td>\n",
       "      <td>4.030000</td>\n",
       "      <td>63.0</td>\n",
       "      <td>...</td>\n",
       "      <td>40.882361</td>\n",
       "      <td>11.154347</td>\n",
       "      <td>1.048951</td>\n",
       "      <td>0.253424</td>\n",
       "      <td>15.627269</td>\n",
       "      <td>11.281490</td>\n",
       "      <td>1.518130</td>\n",
       "      <td>test</td>\n",
       "      <td>0.0</td>\n",
       "      <td>0.01</td>\n",
       "    </tr>\n",
       "    <tr>\n",
       "      <th>9999</th>\n",
       "      <td>10000</td>\n",
       "      <td>0.0</td>\n",
       "      <td>602000.0</td>\n",
       "      <td>2586000.0</td>\n",
       "      <td>26.211521</td>\n",
       "      <td>0.004975</td>\n",
       "      <td>0.015434</td>\n",
       "      <td>0.126106</td>\n",
       "      <td>4.030000</td>\n",
       "      <td>66.0</td>\n",
       "      <td>...</td>\n",
       "      <td>59.112810</td>\n",
       "      <td>13.113131</td>\n",
       "      <td>0.520421</td>\n",
       "      <td>0.280687</td>\n",
       "      <td>21.815356</td>\n",
       "      <td>15.832110</td>\n",
       "      <td>0.643534</td>\n",
       "      <td>test</td>\n",
       "      <td>0.0</td>\n",
       "      <td>0.05</td>\n",
       "    </tr>\n",
       "    <tr>\n",
       "      <th>10000</th>\n",
       "      <td>10001</td>\n",
       "      <td>0.0</td>\n",
       "      <td>668000.0</td>\n",
       "      <td>2620000.0</td>\n",
       "      <td>12.496190</td>\n",
       "      <td>0.028986</td>\n",
       "      <td>0.058744</td>\n",
       "      <td>0.066700</td>\n",
       "      <td>2.000000</td>\n",
       "      <td>62.0</td>\n",
       "      <td>...</td>\n",
       "      <td>59.639661</td>\n",
       "      <td>12.550000</td>\n",
       "      <td>0.098656</td>\n",
       "      <td>0.367925</td>\n",
       "      <td>5.079691</td>\n",
       "      <td>14.141643</td>\n",
       "      <td>0.114506</td>\n",
       "      <td>test</td>\n",
       "      <td>0.0</td>\n",
       "      <td>0.01</td>\n",
       "    </tr>\n",
       "    <tr>\n",
       "      <th>10001</th>\n",
       "      <td>6528</td>\n",
       "      <td>NaN</td>\n",
       "      <td>NaN</td>\n",
       "      <td>NaN</td>\n",
       "      <td>NaN</td>\n",
       "      <td>NaN</td>\n",
       "      <td>NaN</td>\n",
       "      <td>NaN</td>\n",
       "      <td>NaN</td>\n",
       "      <td>NaN</td>\n",
       "      <td>...</td>\n",
       "      <td>NaN</td>\n",
       "      <td>NaN</td>\n",
       "      <td>NaN</td>\n",
       "      <td>NaN</td>\n",
       "      <td>NaN</td>\n",
       "      <td>NaN</td>\n",
       "      <td>NaN</td>\n",
       "      <td>NaN</td>\n",
       "      <td>NaN</td>\n",
       "      <td>NaN</td>\n",
       "    </tr>\n",
       "  </tbody>\n",
       "</table>\n",
       "<p>10002 rows × 87 columns</p>\n",
       "</div>"
      ],
      "text/plain": [
       "       SiteID    As  X_Albers   Y_Albers   WellDepth  AvgAnnualN_CAFO_1992_97  \\\n",
       "0           1   6.0  924000.0  2006000.0  105.912831                16.678065   \n",
       "1           2   1.0  892000.0  2080000.0   54.861323                 7.688502   \n",
       "2           3  13.0  886000.0  2066000.0   34.745504                 6.245885   \n",
       "3           4   1.0  898000.0  2076000.0   59.737885                 4.900404   \n",
       "4           5   2.0  896000.0  2062000.0   45.717769                 6.511748   \n",
       "...       ...   ...       ...        ...         ...                      ...   \n",
       "9997     9998   1.0  610000.0  2484000.0   19.506248                 8.030330   \n",
       "9998     9999   6.0  616000.0  2526000.0   24.992380                 0.158934   \n",
       "9999    10000   0.0  602000.0  2586000.0   26.211521                 0.004975   \n",
       "10000   10001   0.0  668000.0  2620000.0   12.496190                 0.028986   \n",
       "10001    6528   NaN       NaN        NaN         NaN                      NaN   \n",
       "\n",
       "       AvgAnnualN_Fert_1992_2001       AWC     AWS25   BFI  ...   Transmiss  \\\n",
       "0                      48.483771  0.141277  5.384314  21.0  ...  143.362904   \n",
       "1                      50.638261  0.217775  7.311919  37.0  ...  137.152244   \n",
       "2                      43.503552  0.140200  5.400000  33.0  ...  121.646066   \n",
       "3                      34.132068  0.154753  5.318469  37.0  ...  298.232568   \n",
       "4                      45.355325  0.140200  5.400000  28.0  ...   97.123320   \n",
       "...                          ...       ...       ...   ...  ...         ...   \n",
       "9997                   10.843744  0.159466  4.090000  59.0  ...  115.224598   \n",
       "9998                    0.199489  0.126106  4.030000  63.0  ...   40.882361   \n",
       "9999                    0.015434  0.126106  4.030000  66.0  ...   59.112810   \n",
       "10000                   0.058744  0.066700  2.000000  62.0  ...   59.639661   \n",
       "10001                        NaN       NaN       NaN   NaN  ...         NaN   \n",
       "\n",
       "             TWI        VRT       VWC  YngWtrMeanAge  YngWtrMeanAge_VertMean  \\\n",
       "0       9.902970   5.956547  0.304000      23.158235               17.689265   \n",
       "1       9.067347   4.196766  0.343552      22.015855               17.739371   \n",
       "2      11.470297  17.558480  0.270166      17.762669               15.950136   \n",
       "3       9.815662   1.231952  0.328985      27.709500               17.589893   \n",
       "4       9.435353  21.539828  0.268193      19.238581               14.557619   \n",
       "...          ...        ...       ...            ...                     ...   \n",
       "9997   13.790910   0.416030  0.344196       8.765928               16.686542   \n",
       "9998   11.154347   1.048951  0.253424      15.627269               11.281490   \n",
       "9999   13.113131   0.520421  0.280687      21.815356               15.832110   \n",
       "10000  12.550000   0.098656  0.367925       5.079691               14.141643   \n",
       "10001        NaN        NaN       NaN            NaN                     NaN   \n",
       "\n",
       "            DTW   Data  as10  Pred  \n",
       "0      3.082386  train   0.0  0.00  \n",
       "1      3.076582  train   0.0  0.06  \n",
       "2      5.645093  train   1.0  0.83  \n",
       "3      1.044807  train   0.0  0.03  \n",
       "4      8.535328  train   0.0  0.01  \n",
       "...         ...    ...   ...   ...  \n",
       "9997   0.188501   test   0.0  0.11  \n",
       "9998   1.518130   test   0.0  0.01  \n",
       "9999   0.643534   test   0.0  0.05  \n",
       "10000  0.114506   test   0.0  0.01  \n",
       "10001       NaN    NaN   NaN   NaN  \n",
       "\n",
       "[10002 rows x 87 columns]"
      ]
     },
     "execution_count": 3,
     "metadata": {},
     "output_type": "execute_result"
    }
   ],
   "source": [
    "df_arsenic_prelim"
   ]
  },
  {
   "cell_type": "code",
   "execution_count": 4,
   "id": "82de8317",
   "metadata": {},
   "outputs": [],
   "source": [
    "df_arsenic_prelim.isnull().values.any()\n",
    "df_arsenic_prelim.isnull().sum()\n",
    "df_arsenic_prelim = df_arsenic_prelim.dropna()"
   ]
  },
  {
   "cell_type": "code",
   "execution_count": 5,
   "id": "705996ac",
   "metadata": {},
   "outputs": [],
   "source": [
    "correlation_matrix_recovered = genfromtxt(r'C:\\Users\\Ryan\\Desktop\\Summer research\\Data\\Prelim-data\\Pearson_correlation_matrix.csv', delimiter=',')"
   ]
  },
  {
   "cell_type": "code",
   "execution_count": 6,
   "id": "98d43f26",
   "metadata": {},
   "outputs": [],
   "source": [
    "euclidean_matrix_recovered = genfromtxt(r'C:\\Users\\Ryan\\Desktop\\Summer research\\Data\\Prelim-data\\euclidean_dist_matrix.csv', delimiter=',')"
   ]
  },
  {
   "cell_type": "code",
   "execution_count": 7,
   "id": "74284aa7",
   "metadata": {},
   "outputs": [
    {
     "name": "stdout",
     "output_type": "stream",
     "text": [
      "the Minimum Euclidean distance obtained is:  0.0\n",
      "the Maximum Euclidean distance obtained is:  4159862.016942389\n"
     ]
    },
    {
     "data": {
      "text/plain": [
       "(7616, 7616)"
      ]
     },
     "execution_count": 7,
     "metadata": {},
     "output_type": "execute_result"
    }
   ],
   "source": [
    "print(\"the Minimum Euclidean distance obtained is: \",np.min(euclidean_matrix_recovered))\n",
    "print(\"the Maximum Euclidean distance obtained is: \",np.max(euclidean_matrix_recovered))\n",
    "euclidean_matrix_recovered.shape"
   ]
  },
  {
   "cell_type": "code",
   "execution_count": 8,
   "id": "4ee3baac",
   "metadata": {},
   "outputs": [
    {
     "name": "stdout",
     "output_type": "stream",
     "text": [
      "the Minimum correlation obtained is:  -0.07761449873631861\n",
      "the Maximum correlation obtained is:  1.0\n"
     ]
    },
    {
     "data": {
      "text/plain": [
       "(7616, 7616)"
      ]
     },
     "execution_count": 8,
     "metadata": {},
     "output_type": "execute_result"
    }
   ],
   "source": [
    "correlation_matrix_recovered\n",
    "print(\"the Minimum correlation obtained is: \",np.min(correlation_matrix_recovered))\n",
    "print(\"the Maximum correlation obtained is: \",np.max(correlation_matrix_recovered))\n",
    "correlation_matrix_recovered.shape"
   ]
  },
  {
   "cell_type": "code",
   "execution_count": 9,
   "id": "4d186ccd",
   "metadata": {},
   "outputs": [],
   "source": [
    "cutoff_euclidean = 10000\n",
    "cutoff_correlation = 0.95"
   ]
  },
  {
   "cell_type": "code",
   "execution_count": 10,
   "id": "4f2e87bf",
   "metadata": {},
   "outputs": [
    {
     "name": "stdout",
     "output_type": "stream",
     "text": [
      "146006\n"
     ]
    }
   ],
   "source": [
    "num=0\n",
    "Edge_matrix = np.zeros((df_arsenic_prelim.shape[0],df_arsenic_prelim.shape[0]))\n",
    "for i in range(df_arsenic_prelim.shape[0]):\n",
    "    for j in range(df_arsenic_prelim.shape[0]):\n",
    "        if i!=j and correlation_matrix_recovered[i,j] > cutoff_correlation or euclidean_matrix_recovered[i,j] < cutoff_euclidean:\n",
    "            Edge_matrix[i,j]=1\n",
    "            num+=1\n",
    "print(num)"
   ]
  },
  {
   "cell_type": "code",
   "execution_count": 11,
   "id": "05619dc3",
   "metadata": {},
   "outputs": [
    {
     "name": "stdout",
     "output_type": "stream",
     "text": [
      "7616 76811\n"
     ]
    }
   ],
   "source": [
    "G = nx.from_numpy_matrix(Edge_matrix)\n",
    "n = G.number_of_nodes()\n",
    "m = G.number_of_edges()\n",
    "print(n,m)"
   ]
  },
  {
   "cell_type": "code",
   "execution_count": 12,
   "id": "d19682a0",
   "metadata": {},
   "outputs": [],
   "source": [
    "def Degree_Distribution(G):\n",
    "    degree = G.degree()\n",
    "    degree = [ deg for (v,deg) in degree ]\n",
    "    sum_degree = np.sum(degree)\n",
    "    plot_distribution(degree, xlabel='Degree ($k$)', \n",
    "                  ylabel='Number of nodes with degree $k$ ($N_k$)', title='Degree distributions')\n",
    "    return sum_degree"
   ]
  },
  {
   "cell_type": "code",
   "execution_count": 13,
   "id": "74407a05",
   "metadata": {},
   "outputs": [],
   "source": [
    "# Input: A graph \n",
    "# Find the sizes of all connected components and plot the distribution\n",
    "def CC_Distribution(G):\n",
    "    cc_sorted = sorted(nx.connected_components(G), key=len, reverse=True)\n",
    "    # print statistics of the top 5 components (if exist)\n",
    "    topcc = min(len(cc_sorted), 5)\n",
    "    for i in  range(topcc):\n",
    "        cc = cc_sorted[i]\n",
    "        cc_graph = G.subgraph(cc)\n",
    "        n = cc_graph.number_of_nodes()\n",
    "        m = cc_graph.number_of_edges()\n",
    "        n_percent = (n/G.number_of_nodes()) * 100\n",
    "        print(\"Largest component #\", i+1)\n",
    "        print(\"Number of vertices:\", n, \" (\", n_percent, \")\", \"\\nNumber of edges: \", m, \"\\n\")\n",
    "        if i == 0:\n",
    "            size_of_largest_component = n\n",
    "\n",
    "    cc_sizes = [len(c) for c in cc_sorted]\n",
    "    plot_distribution(cc_sizes, xlabel='Weakly connected component size', \n",
    "                  ylabel='Count', title='Connected component size distributions')\n",
    "    return size_of_largest_component"
   ]
  },
  {
   "cell_type": "code",
   "execution_count": 14,
   "id": "3b6706c3",
   "metadata": {},
   "outputs": [],
   "source": [
    "# Input: A graph \n",
    "# Find the local clustering coefficient of all vertices and plot distribution\n",
    "def Clustering_Analysis(G):\n",
    "    clust = nx.clustering(G)\n",
    "    local_clust_coefficient = [ v for v in clust.values() ]\n",
    "    avg_clust_coefficient = sum(local_clust_coefficient)/G.number_of_nodes()\n",
    "    print(\"Average clustering coefficient: \", avg_clust_coefficient)\n",
    "    #plot the distribution of clustering coefficient\n",
    "    plot_distribution(local_clust_coefficient, xlabel='Clustering coefficient', \n",
    "                  ylabel='Number of vertices', title='Clustering coefficient distributions',\n",
    "                      xlog=False, ylog=True, showLine=False)\n",
    "    return avg_clust_coefficient"
   ]
  },
  {
   "cell_type": "code",
   "execution_count": 15,
   "id": "70ee133a",
   "metadata": {},
   "outputs": [],
   "source": [
    "def ShortestPaths_Analysis(G):\n",
    "    cc_sorted = sorted(nx.connected_components(G), key=len, reverse=True)\n",
    "\n",
    "    # find shortest paths in top 5 components\n",
    "    topcc = min(len(cc_sorted), 5)\n",
    "    for i in  range(topcc) :\n",
    "        cc = cc_sorted[i]\n",
    "        cc_graph = G.subgraph(cc)\n",
    "      \n",
    "        if(len(cc)>30000):\n",
    "            print(\"This component is too large. Using ten single-source shortest paths.\")\n",
    "            cc = list(cc)\n",
    "            cc_graph = G.subgraph(cc)\n",
    "            shortest_path_lens = []\n",
    "            for i in range(10):\n",
    "                length = nx.single_source_shortest_path_length(cc_graph, cc[i]) \n",
    "                shortest_path_lens += [ v for v in length.values() ]\n",
    "        else:\n",
    "            all_shortest_path_dict = dict(nx.all_pairs_shortest_path_length(cc_graph))\n",
    "            shortest_path_lens = []\n",
    "            for val1 in all_shortest_path_dict.values():\n",
    "                for val in val1.values():\n",
    "                    shortest_path_lens.append(val)\n",
    "        \n",
    "        average_shortest_path_lenght = np.average(shortest_path_lens)\n",
    "        diameter_of_graph = np.max(shortest_path_lens)\n",
    "        print(average_shortest_path_lenght,diameter_of_graph)\n",
    "        plot_distribution(shortest_path_lens, xlabel='Shortest path lengths (hops)', \n",
    "                  ylabel='Number of paths', title='Shortest path lengths distributions',\n",
    "                      xlog=False, ylog=False, showLine=True, intAxis=True)  \n",
    "        return(average_shortest_path_lenght,diameter_of_graph)"
   ]
  },
  {
   "cell_type": "code",
   "execution_count": 16,
   "id": "aa7d3087",
   "metadata": {},
   "outputs": [],
   "source": [
    "def plot_distribution (data, xlabel='', ylabel='', title='', xlog = True, ylog= True, showLine=False, intAxis=False) :\n",
    "    counts = {}\n",
    "    for item in data :\n",
    "        if item not in counts :\n",
    "            counts [ item ] = 0\n",
    "        counts [ item ] += 1\n",
    "    counts = sorted ( counts.items () )\n",
    "    fig = plt.figure ()\n",
    "    ax = fig.add_subplot (111)\n",
    "    ax.scatter ([ k for (k , v ) in counts ] , [ v for (k , v ) in counts ])\n",
    "    if(len(counts)<20):  # for tiny graph\n",
    "        showLine=True\n",
    "    if showLine==True:\n",
    "        ax.plot ([ k for (k , v ) in counts ] , [ v for (k , v ) in counts ])\n",
    "    if xlog == True:\n",
    "        ax.set_xscale ( 'log')\n",
    "    if ylog == True:\n",
    "        ax.set_yscale ( 'log')\n",
    "    if intAxis == True:\n",
    "        gca = fig.gca()\n",
    "        gca.xaxis.set_major_locator(MaxNLocator(integer=True))\n",
    "    ax.set_xlabel ( xlabel)\n",
    "    ax.set_ylabel ( ylabel )\n",
    "    plt.title ( title )\n",
    "    #fig.savefig ( \"degree_distribution.png\" )\n",
    "    \n",
    "def plot_degree_bar (G) :\n",
    "    degs = {}\n",
    "    for n in G.nodes () :\n",
    "        deg = G.degree ( n )\n",
    "        if deg not in degs :\n",
    "            degs [ deg ] = 0\n",
    "        degs [ deg ] += 1\n",
    "    items = sorted ( degs.items () )\n",
    "    fig = plt.figure ()\n",
    "    ax = fig.add_subplot (111)\n",
    "    print(items)\n",
    "    ax.bar([ k for (k , v ) in items ] , [ v for (k , v ) in items ])\n",
    "    ax.set_xlabel ( 'Degree ($k$)')\n",
    "    ax.set_ylabel ( 'Number of nodes with degree $k$ ($N_k$)')"
   ]
  },
  {
   "cell_type": "code",
   "execution_count": 17,
   "id": "9cfdffe0",
   "metadata": {},
   "outputs": [
    {
     "name": "stdout",
     "output_type": "stream",
     "text": [
      "Largest component # 1\n",
      "Number of vertices: 1102  ( 14.469537815126051 ) \n",
      "Number of edges:  32788 \n",
      "\n",
      "Largest component # 2\n",
      "Number of vertices: 267  ( 3.50577731092437 ) \n",
      "Number of edges:  3610 \n",
      "\n",
      "Largest component # 3\n",
      "Number of vertices: 245  ( 3.2169117647058822 ) \n",
      "Number of edges:  7844 \n",
      "\n",
      "Largest component # 4\n",
      "Number of vertices: 217  ( 2.849264705882353 ) \n",
      "Number of edges:  2918 \n",
      "\n",
      "Largest component # 5\n",
      "Number of vertices: 193  ( 2.534138655462185 ) \n",
      "Number of edges:  1021 \n",
      "\n",
      "Average clustering coefficient:  0.6324684002337135\n"
     ]
    },
    {
     "data": {
      "text/plain": [
       "0.6324684002337135"
      ]
     },
     "execution_count": 17,
     "metadata": {},
     "output_type": "execute_result"
    },
    {
     "data": {
      "image/png": "[encoded data removed]",
      "text/plain": [
       "<Figure size 432x288 with 1 Axes>"
      ]
     },
     "metadata": {
      "needs_background": "light"
     },
     "output_type": "display_data"
    },
    {
     "data": {
      "image/png": "[encoded data removed]",
      "text/plain": [
       "<Figure size 432x288 with 1 Axes>"
      ]
     },
     "metadata": {
      "needs_background": "light"
     },
     "output_type": "display_data"
    },
    {
     "data": {
      "image/png": "[encoded data removed]",
      "text/plain": [
       "<Figure size 432x288 with 1 Axes>"
      ]
     },
     "metadata": {
      "needs_background": "light"
     },
     "output_type": "display_data"
    }
   ],
   "source": [
    "Degree_Distribution(G)\n",
    "CC_Distribution(G)\n",
    "Clustering_Analysis(G)"
   ]
  },
  {
   "cell_type": "code",
   "execution_count": 19,
   "id": "df05dd3d",
   "metadata": {},
   "outputs": [
    {
     "name": "stderr",
     "output_type": "stream",
     "text": [
      "DGL backend not selected or invalid.  Assuming PyTorch for now.\n"
     ]
    },
    {
     "name": "stdout",
     "output_type": "stream",
     "text": [
      "Setting the default backend to \"pytorch\". You can change it in the ~/.dgl/config.json file or export the DGLBACKEND environment variable.  Valid options are: pytorch, mxnet, tensorflow (all lowercase)\n",
      "Downloading C:\\Users\\Ryan\\.dgl\\cora_v2.zip from https://data.dgl.ai/dataset/cora_v2.zip...\n",
      "Extracting file to C:\\Users\\Ryan\\.dgl\\cora_v2\n",
      "Finished data loading and preprocessing.\n",
      "  NumNodes: 2708\n",
      "  NumEdges: 10556\n",
      "  NumFeats: 1433\n",
      "  NumClasses: 7\n",
      "  NumTrainingSamples: 140\n",
      "  NumValidationSamples: 500\n",
      "  NumTestSamples: 1000\n",
      "Done saving data into cached files.\n"
     ]
    }
   ],
   "source": [
    "import dgl\n",
    "import tensorflow as tf\n",
    "\n",
    "dataset = dgl.data.CoraGraphDataset()"
   ]
  },
  {
   "cell_type": "code",
   "execution_count": 21,
   "id": "fe631f6b",
   "metadata": {},
   "outputs": [],
   "source": [
    "g = dataset[0]\n",
    "g = dataset[0]\n",
    "\n",
    "train_ds = tf.data.Dataset.zip((\n",
    "    tf.data.Dataset.from_tensor_slices(g.ndata['feat'][g.ndata['train_mask']]),\n",
    "    tf.data.Dataset.from_tensor_slices(g.ndata['label'][g.ndata['train_mask']])\n",
    ")).batch(64)\n",
    "val_ds = tf.data.Dataset.zip((\n",
    "    tf.data.Dataset.from_tensor_slices(g.ndata['feat'][g.ndata['val_mask']]),\n",
    "    tf.data.Dataset.from_tensor_slices(g.ndata['label'][g.ndata['val_mask']])\n",
    ")).batch(64)\n",
    "test_ds = tf.data.Dataset.zip((\n",
    "    tf.data.Dataset.from_tensor_slices(g.ndata['feat'][g.ndata['test_mask']]),\n",
    "    tf.data.Dataset.from_tensor_slices(g.ndata['label'][g.ndata['test_mask']])\n",
    ")).batch(64)"
   ]
  },
  {
   "cell_type": "code",
   "execution_count": 23,
   "id": "876b0822",
   "metadata": {},
   "outputs": [
    {
     "ename": "AttributeError",
     "evalue": "'BatchDataset' object has no attribute 'shape'",
     "output_type": "error",
     "traceback": [
      "\u001b[1;31m---------------------------------------------------------------------------\u001b[0m",
      "\u001b[1;31mAttributeError\u001b[0m                            Traceback (most recent call last)",
      "\u001b[1;32m<ipython-input-23-e5cb4b876385>\u001b[0m in \u001b[0;36m<module>\u001b[1;34m\u001b[0m\n\u001b[1;32m----> 1\u001b[1;33m \u001b[0mtrain_ds\u001b[0m\u001b[1;33m.\u001b[0m\u001b[0mshape\u001b[0m\u001b[1;33m\u001b[0m\u001b[1;33m\u001b[0m\u001b[0m\n\u001b[0m",
      "\u001b[1;31mAttributeError\u001b[0m: 'BatchDataset' object has no attribute 'shape'"
     ]
    }
   ],
   "source": []
  },
  {
   "cell_type": "code",
   "execution_count": null,
   "id": "8389104d",
   "metadata": {},
   "outputs": [],
   "source": []
  }
 ],
 "metadata": {
  "kernelspec": {
   "display_name": "Python 3",
   "language": "python",
   "name": "python3"
  },
  "language_info": {
   "codemirror_mode": {
    "name": "ipython",
    "version": 3
   },
   "file_extension": ".py",
   "mimetype": "text/x-python",
   "name": "python",
   "nbconvert_exporter": "python",
   "pygments_lexer": "ipython3",
   "version": "3.8.8"
  }
 },
 "nbformat": 4,
 "nbformat_minor": 5
}
