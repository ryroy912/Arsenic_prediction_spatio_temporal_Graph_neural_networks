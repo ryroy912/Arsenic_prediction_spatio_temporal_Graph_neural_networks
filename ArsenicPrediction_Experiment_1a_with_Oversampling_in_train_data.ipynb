{
 "cells": [
  {
   "cell_type": "markdown",
   "id": "fc0e3cae",
   "metadata": {},
   "source": [
    "# EXPREIMENT 1A - MLP with oversampling in training dataset"
   ]
  },
  {
   "cell_type": "markdown",
   "id": "715331a7",
   "metadata": {},
   "source": [
    "##### Importing the libraries"
   ]
  },
  {
   "cell_type": "code",
   "execution_count": 1,
   "id": "b71bd369",
   "metadata": {},
   "outputs": [],
   "source": [
    "import numpy as np\n",
    "from tensorflow.keras.models import Sequential\n",
    "from tensorflow.keras.layers import LSTM\n",
    "from tensorflow.keras.layers import Dense, Dropout\n",
    "import pandas as pd\n",
    "from matplotlib import pyplot as plt\n",
    "from sklearn.preprocessing import StandardScaler\n",
    "import seaborn as sns\n",
    "from sklearn.compose import ColumnTransformer\n",
    "from sklearn.preprocessing import StandardScaler\n",
    "import tensorflow as tf\n",
    "import matplotlib.pyplot as plt\n",
    "import numpy as np\n",
    "import ipywidgets as widgets \n",
    "from IPython.display import display \n",
    "import pylab\n",
    "from sklearn.compose import ColumnTransformer\n",
    "import sklearn\n",
    "import keras.layers as kl\n",
    "from sklearn.utils import shuffle\n",
    "import keras"
   ]
  },
  {
   "cell_type": "markdown",
   "id": "0f66ab91",
   "metadata": {},
   "source": [
    "##### Loading and cleaning the data"
   ]
  },
  {
   "cell_type": "code",
   "execution_count": 2,
   "id": "cc59394a",
   "metadata": {},
   "outputs": [],
   "source": [
    "df_arsenic_prelim = pd.read_csv (r'C:\\Users\\Ryan\\Desktop\\Research\\Data\\Prelim-data\\as.csv')"
   ]
  },
  {
   "cell_type": "code",
   "execution_count": 3,
   "id": "f90bd613",
   "metadata": {},
   "outputs": [
    {
     "data": {
      "text/html": [
       "<div>\n",
       "<style scoped>\n",
       "    .dataframe tbody tr th:only-of-type {\n",
       "        vertical-align: middle;\n",
       "    }\n",
       "\n",
       "    .dataframe tbody tr th {\n",
       "        vertical-align: top;\n",
       "    }\n",
       "\n",
       "    .dataframe thead th {\n",
       "        text-align: right;\n",
       "    }\n",
       "</style>\n",
       "<table border=\"1\" class=\"dataframe\">\n",
       "  <thead>\n",
       "    <tr style=\"text-align: right;\">\n",
       "      <th></th>\n",
       "      <th>SiteID</th>\n",
       "      <th>As</th>\n",
       "      <th>X_Albers</th>\n",
       "      <th>Y_Albers</th>\n",
       "      <th>WellDepth</th>\n",
       "      <th>AvgAnnualN_CAFO_1992_97</th>\n",
       "      <th>AvgAnnualN_Fert_1992_2001</th>\n",
       "      <th>AWC</th>\n",
       "      <th>AWS25</th>\n",
       "      <th>BFI</th>\n",
       "      <th>...</th>\n",
       "      <th>Transmiss</th>\n",
       "      <th>TWI</th>\n",
       "      <th>VRT</th>\n",
       "      <th>VWC</th>\n",
       "      <th>YngWtrMeanAge</th>\n",
       "      <th>YngWtrMeanAge_VertMean</th>\n",
       "      <th>DTW</th>\n",
       "      <th>Data</th>\n",
       "      <th>as10</th>\n",
       "      <th>Pred</th>\n",
       "    </tr>\n",
       "  </thead>\n",
       "  <tbody>\n",
       "    <tr>\n",
       "      <th>0</th>\n",
       "      <td>1</td>\n",
       "      <td>6.0</td>\n",
       "      <td>924000.0</td>\n",
       "      <td>2006000.0</td>\n",
       "      <td>105.912831</td>\n",
       "      <td>16.678065</td>\n",
       "      <td>48.483771</td>\n",
       "      <td>0.141277</td>\n",
       "      <td>5.384314</td>\n",
       "      <td>21.0</td>\n",
       "      <td>...</td>\n",
       "      <td>143.362904</td>\n",
       "      <td>9.902970</td>\n",
       "      <td>5.956547</td>\n",
       "      <td>0.304000</td>\n",
       "      <td>23.158235</td>\n",
       "      <td>17.689265</td>\n",
       "      <td>3.082386</td>\n",
       "      <td>train</td>\n",
       "      <td>0.0</td>\n",
       "      <td>0.00</td>\n",
       "    </tr>\n",
       "    <tr>\n",
       "      <th>1</th>\n",
       "      <td>2</td>\n",
       "      <td>1.0</td>\n",
       "      <td>892000.0</td>\n",
       "      <td>2080000.0</td>\n",
       "      <td>54.861323</td>\n",
       "      <td>7.688502</td>\n",
       "      <td>50.638261</td>\n",
       "      <td>0.217775</td>\n",
       "      <td>7.311919</td>\n",
       "      <td>37.0</td>\n",
       "      <td>...</td>\n",
       "      <td>137.152244</td>\n",
       "      <td>9.067347</td>\n",
       "      <td>4.196766</td>\n",
       "      <td>0.343552</td>\n",
       "      <td>22.015855</td>\n",
       "      <td>17.739371</td>\n",
       "      <td>3.076582</td>\n",
       "      <td>train</td>\n",
       "      <td>0.0</td>\n",
       "      <td>0.06</td>\n",
       "    </tr>\n",
       "    <tr>\n",
       "      <th>2</th>\n",
       "      <td>3</td>\n",
       "      <td>13.0</td>\n",
       "      <td>886000.0</td>\n",
       "      <td>2066000.0</td>\n",
       "      <td>34.745504</td>\n",
       "      <td>6.245885</td>\n",
       "      <td>43.503552</td>\n",
       "      <td>0.140200</td>\n",
       "      <td>5.400000</td>\n",
       "      <td>33.0</td>\n",
       "      <td>...</td>\n",
       "      <td>121.646066</td>\n",
       "      <td>11.470297</td>\n",
       "      <td>17.558480</td>\n",
       "      <td>0.270166</td>\n",
       "      <td>17.762669</td>\n",
       "      <td>15.950136</td>\n",
       "      <td>5.645093</td>\n",
       "      <td>train</td>\n",
       "      <td>1.0</td>\n",
       "      <td>0.83</td>\n",
       "    </tr>\n",
       "    <tr>\n",
       "      <th>3</th>\n",
       "      <td>4</td>\n",
       "      <td>1.0</td>\n",
       "      <td>898000.0</td>\n",
       "      <td>2076000.0</td>\n",
       "      <td>59.737885</td>\n",
       "      <td>4.900404</td>\n",
       "      <td>34.132068</td>\n",
       "      <td>0.154753</td>\n",
       "      <td>5.318469</td>\n",
       "      <td>37.0</td>\n",
       "      <td>...</td>\n",
       "      <td>298.232568</td>\n",
       "      <td>9.815662</td>\n",
       "      <td>1.231952</td>\n",
       "      <td>0.328985</td>\n",
       "      <td>27.709500</td>\n",
       "      <td>17.589893</td>\n",
       "      <td>1.044807</td>\n",
       "      <td>train</td>\n",
       "      <td>0.0</td>\n",
       "      <td>0.03</td>\n",
       "    </tr>\n",
       "    <tr>\n",
       "      <th>4</th>\n",
       "      <td>5</td>\n",
       "      <td>2.0</td>\n",
       "      <td>896000.0</td>\n",
       "      <td>2062000.0</td>\n",
       "      <td>45.717769</td>\n",
       "      <td>6.511748</td>\n",
       "      <td>45.355325</td>\n",
       "      <td>0.140200</td>\n",
       "      <td>5.400000</td>\n",
       "      <td>28.0</td>\n",
       "      <td>...</td>\n",
       "      <td>97.123320</td>\n",
       "      <td>9.435353</td>\n",
       "      <td>21.539828</td>\n",
       "      <td>0.268193</td>\n",
       "      <td>19.238581</td>\n",
       "      <td>14.557619</td>\n",
       "      <td>8.535328</td>\n",
       "      <td>train</td>\n",
       "      <td>0.0</td>\n",
       "      <td>0.01</td>\n",
       "    </tr>\n",
       "    <tr>\n",
       "      <th>...</th>\n",
       "      <td>...</td>\n",
       "      <td>...</td>\n",
       "      <td>...</td>\n",
       "      <td>...</td>\n",
       "      <td>...</td>\n",
       "      <td>...</td>\n",
       "      <td>...</td>\n",
       "      <td>...</td>\n",
       "      <td>...</td>\n",
       "      <td>...</td>\n",
       "      <td>...</td>\n",
       "      <td>...</td>\n",
       "      <td>...</td>\n",
       "      <td>...</td>\n",
       "      <td>...</td>\n",
       "      <td>...</td>\n",
       "      <td>...</td>\n",
       "      <td>...</td>\n",
       "      <td>...</td>\n",
       "      <td>...</td>\n",
       "      <td>...</td>\n",
       "    </tr>\n",
       "    <tr>\n",
       "      <th>9997</th>\n",
       "      <td>9998</td>\n",
       "      <td>1.0</td>\n",
       "      <td>610000.0</td>\n",
       "      <td>2484000.0</td>\n",
       "      <td>19.506248</td>\n",
       "      <td>8.030330</td>\n",
       "      <td>10.843744</td>\n",
       "      <td>0.159466</td>\n",
       "      <td>4.090000</td>\n",
       "      <td>59.0</td>\n",
       "      <td>...</td>\n",
       "      <td>115.224598</td>\n",
       "      <td>13.790910</td>\n",
       "      <td>0.416030</td>\n",
       "      <td>0.344196</td>\n",
       "      <td>8.765928</td>\n",
       "      <td>16.686542</td>\n",
       "      <td>0.188501</td>\n",
       "      <td>test</td>\n",
       "      <td>0.0</td>\n",
       "      <td>0.11</td>\n",
       "    </tr>\n",
       "    <tr>\n",
       "      <th>9998</th>\n",
       "      <td>9999</td>\n",
       "      <td>6.0</td>\n",
       "      <td>616000.0</td>\n",
       "      <td>2526000.0</td>\n",
       "      <td>24.992380</td>\n",
       "      <td>0.158934</td>\n",
       "      <td>0.199489</td>\n",
       "      <td>0.126106</td>\n",
       "      <td>4.030000</td>\n",
       "      <td>63.0</td>\n",
       "      <td>...</td>\n",
       "      <td>40.882361</td>\n",
       "      <td>11.154347</td>\n",
       "      <td>1.048951</td>\n",
       "      <td>0.253424</td>\n",
       "      <td>15.627269</td>\n",
       "      <td>11.281490</td>\n",
       "      <td>1.518130</td>\n",
       "      <td>test</td>\n",
       "      <td>0.0</td>\n",
       "      <td>0.01</td>\n",
       "    </tr>\n",
       "    <tr>\n",
       "      <th>9999</th>\n",
       "      <td>10000</td>\n",
       "      <td>0.0</td>\n",
       "      <td>602000.0</td>\n",
       "      <td>2586000.0</td>\n",
       "      <td>26.211521</td>\n",
       "      <td>0.004975</td>\n",
       "      <td>0.015434</td>\n",
       "      <td>0.126106</td>\n",
       "      <td>4.030000</td>\n",
       "      <td>66.0</td>\n",
       "      <td>...</td>\n",
       "      <td>59.112810</td>\n",
       "      <td>13.113131</td>\n",
       "      <td>0.520421</td>\n",
       "      <td>0.280687</td>\n",
       "      <td>21.815356</td>\n",
       "      <td>15.832110</td>\n",
       "      <td>0.643534</td>\n",
       "      <td>test</td>\n",
       "      <td>0.0</td>\n",
       "      <td>0.05</td>\n",
       "    </tr>\n",
       "    <tr>\n",
       "      <th>10000</th>\n",
       "      <td>10001</td>\n",
       "      <td>0.0</td>\n",
       "      <td>668000.0</td>\n",
       "      <td>2620000.0</td>\n",
       "      <td>12.496190</td>\n",
       "      <td>0.028986</td>\n",
       "      <td>0.058744</td>\n",
       "      <td>0.066700</td>\n",
       "      <td>2.000000</td>\n",
       "      <td>62.0</td>\n",
       "      <td>...</td>\n",
       "      <td>59.639661</td>\n",
       "      <td>12.550000</td>\n",
       "      <td>0.098656</td>\n",
       "      <td>0.367925</td>\n",
       "      <td>5.079691</td>\n",
       "      <td>14.141643</td>\n",
       "      <td>0.114506</td>\n",
       "      <td>test</td>\n",
       "      <td>0.0</td>\n",
       "      <td>0.01</td>\n",
       "    </tr>\n",
       "    <tr>\n",
       "      <th>10001</th>\n",
       "      <td>6528</td>\n",
       "      <td>NaN</td>\n",
       "      <td>NaN</td>\n",
       "      <td>NaN</td>\n",
       "      <td>NaN</td>\n",
       "      <td>NaN</td>\n",
       "      <td>NaN</td>\n",
       "      <td>NaN</td>\n",
       "      <td>NaN</td>\n",
       "      <td>NaN</td>\n",
       "      <td>...</td>\n",
       "      <td>NaN</td>\n",
       "      <td>NaN</td>\n",
       "      <td>NaN</td>\n",
       "      <td>NaN</td>\n",
       "      <td>NaN</td>\n",
       "      <td>NaN</td>\n",
       "      <td>NaN</td>\n",
       "      <td>NaN</td>\n",
       "      <td>NaN</td>\n",
       "      <td>NaN</td>\n",
       "    </tr>\n",
       "  </tbody>\n",
       "</table>\n",
       "<p>10002 rows × 87 columns</p>\n",
       "</div>"
      ],
      "text/plain": [
       "       SiteID    As  X_Albers   Y_Albers   WellDepth  AvgAnnualN_CAFO_1992_97  \\\n",
       "0           1   6.0  924000.0  2006000.0  105.912831                16.678065   \n",
       "1           2   1.0  892000.0  2080000.0   54.861323                 7.688502   \n",
       "2           3  13.0  886000.0  2066000.0   34.745504                 6.245885   \n",
       "3           4   1.0  898000.0  2076000.0   59.737885                 4.900404   \n",
       "4           5   2.0  896000.0  2062000.0   45.717769                 6.511748   \n",
       "...       ...   ...       ...        ...         ...                      ...   \n",
       "9997     9998   1.0  610000.0  2484000.0   19.506248                 8.030330   \n",
       "9998     9999   6.0  616000.0  2526000.0   24.992380                 0.158934   \n",
       "9999    10000   0.0  602000.0  2586000.0   26.211521                 0.004975   \n",
       "10000   10001   0.0  668000.0  2620000.0   12.496190                 0.028986   \n",
       "10001    6528   NaN       NaN        NaN         NaN                      NaN   \n",
       "\n",
       "       AvgAnnualN_Fert_1992_2001       AWC     AWS25   BFI  ...   Transmiss  \\\n",
       "0                      48.483771  0.141277  5.384314  21.0  ...  143.362904   \n",
       "1                      50.638261  0.217775  7.311919  37.0  ...  137.152244   \n",
       "2                      43.503552  0.140200  5.400000  33.0  ...  121.646066   \n",
       "3                      34.132068  0.154753  5.318469  37.0  ...  298.232568   \n",
       "4                      45.355325  0.140200  5.400000  28.0  ...   97.123320   \n",
       "...                          ...       ...       ...   ...  ...         ...   \n",
       "9997                   10.843744  0.159466  4.090000  59.0  ...  115.224598   \n",
       "9998                    0.199489  0.126106  4.030000  63.0  ...   40.882361   \n",
       "9999                    0.015434  0.126106  4.030000  66.0  ...   59.112810   \n",
       "10000                   0.058744  0.066700  2.000000  62.0  ...   59.639661   \n",
       "10001                        NaN       NaN       NaN   NaN  ...         NaN   \n",
       "\n",
       "             TWI        VRT       VWC  YngWtrMeanAge  YngWtrMeanAge_VertMean  \\\n",
       "0       9.902970   5.956547  0.304000      23.158235               17.689265   \n",
       "1       9.067347   4.196766  0.343552      22.015855               17.739371   \n",
       "2      11.470297  17.558480  0.270166      17.762669               15.950136   \n",
       "3       9.815662   1.231952  0.328985      27.709500               17.589893   \n",
       "4       9.435353  21.539828  0.268193      19.238581               14.557619   \n",
       "...          ...        ...       ...            ...                     ...   \n",
       "9997   13.790910   0.416030  0.344196       8.765928               16.686542   \n",
       "9998   11.154347   1.048951  0.253424      15.627269               11.281490   \n",
       "9999   13.113131   0.520421  0.280687      21.815356               15.832110   \n",
       "10000  12.550000   0.098656  0.367925       5.079691               14.141643   \n",
       "10001        NaN        NaN       NaN            NaN                     NaN   \n",
       "\n",
       "            DTW   Data  as10  Pred  \n",
       "0      3.082386  train   0.0  0.00  \n",
       "1      3.076582  train   0.0  0.06  \n",
       "2      5.645093  train   1.0  0.83  \n",
       "3      1.044807  train   0.0  0.03  \n",
       "4      8.535328  train   0.0  0.01  \n",
       "...         ...    ...   ...   ...  \n",
       "9997   0.188501   test   0.0  0.11  \n",
       "9998   1.518130   test   0.0  0.01  \n",
       "9999   0.643534   test   0.0  0.05  \n",
       "10000  0.114506   test   0.0  0.01  \n",
       "10001       NaN    NaN   NaN   NaN  \n",
       "\n",
       "[10002 rows x 87 columns]"
      ]
     },
     "execution_count": 3,
     "metadata": {},
     "output_type": "execute_result"
    }
   ],
   "source": [
    "df_arsenic_prelim"
   ]
  },
  {
   "cell_type": "code",
   "execution_count": 4,
   "id": "3b4bba18",
   "metadata": {},
   "outputs": [],
   "source": [
    "df_arsenic_prelim.isnull().values.any()\n",
    "df_arsenic_prelim.isnull().sum()\n",
    "df_arsenic_prelim = df_arsenic_prelim.dropna()"
   ]
  },
  {
   "cell_type": "code",
   "execution_count": 5,
   "id": "0038a3bc",
   "metadata": {},
   "outputs": [
    {
     "data": {
      "text/plain": [
       "(7616, 87)"
      ]
     },
     "execution_count": 5,
     "metadata": {},
     "output_type": "execute_result"
    }
   ],
   "source": [
    "df_arsenic_prelim.shape"
   ]
  },
  {
   "cell_type": "code",
   "execution_count": 6,
   "id": "da10b55b",
   "metadata": {},
   "outputs": [],
   "source": [
    "X = df_arsenic_prelim.iloc[:,4:-3]\n",
    "Y_TRUE = df_arsenic_prelim.iloc[:,1]\n",
    "Y_PRED_BIN = df_arsenic_prelim.iloc[:,-2]\n",
    "Y_PRED_CONTINUOUS = df_arsenic_prelim.iloc[:,-1]"
   ]
  },
  {
   "cell_type": "code",
   "execution_count": 7,
   "id": "94bc01ad",
   "metadata": {},
   "outputs": [
    {
     "data": {
      "text/plain": [
       "(7616, 80)"
      ]
     },
     "execution_count": 7,
     "metadata": {},
     "output_type": "execute_result"
    }
   ],
   "source": [
    "X.shape"
   ]
  },
  {
   "cell_type": "code",
   "execution_count": 8,
   "id": "9d59cdc0",
   "metadata": {},
   "outputs": [
    {
     "name": "stdout",
     "output_type": "stream",
     "text": [
      "Range: 280.0\n",
      "Max: 280.0\n",
      "Max: 0.0\n"
     ]
    }
   ],
   "source": [
    "Y_TRUE\n",
    "r = np.ptp(Y_TRUE)\n",
    "print(\"Range:\", r)\n",
    "print(\"Max:\",max(Y_TRUE))\n",
    "print(\"Max:\",min(Y_TRUE))"
   ]
  },
  {
   "cell_type": "code",
   "execution_count": 9,
   "id": "371013f2",
   "metadata": {},
   "outputs": [
    {
     "name": "stdout",
     "output_type": "stream",
     "text": [
      "Shape of X:  (7616, 80)\n",
      "Shape of Y_TRUE:  (7616,)\n",
      "Shape of Y_PRED_BIN:  (7616,)\n",
      "Shape of Y_PRED_CONFIDENCE:  (7616,)\n"
     ]
    }
   ],
   "source": [
    "print('Shape of X: ', X.shape)\n",
    "print('Shape of Y_TRUE: ', Y_TRUE.shape)\n",
    "print('Shape of Y_PRED_BIN: ', Y_PRED_BIN.shape)\n",
    "print('Shape of Y_PRED_CONFIDENCE: ', Y_PRED_CONTINUOUS.shape)"
   ]
  },
  {
   "cell_type": "markdown",
   "id": "08f81bca",
   "metadata": {},
   "source": [
    "##### Splitting the data into train and test"
   ]
  },
  {
   "cell_type": "code",
   "execution_count": 10,
   "id": "92da9222",
   "metadata": {},
   "outputs": [],
   "source": [
    "No_of_train_samples = int((X.shape[0] * 3) / 4)\n",
    "remaining_samples = X.shape[0] - No_of_train_samples\n",
    "TrainX = np.array(X.iloc[:No_of_train_samples,:])\n",
    "TrainY = np.array(Y_TRUE)[:No_of_train_samples]\n",
    "\n",
    "TestX = np.array(X.iloc[No_of_train_samples:,:])\n",
    "TestY = np.array(Y_TRUE)[No_of_train_samples:]\n",
    "Test_old_pred = np.array(Y_PRED_CONTINUOUS)[No_of_train_samples:]"
   ]
  },
  {
   "cell_type": "markdown",
   "id": "c64f4456",
   "metadata": {},
   "source": [
    "##### Oversampling the train_data"
   ]
  },
  {
   "cell_type": "code",
   "execution_count": 11,
   "id": "bda172b8",
   "metadata": {},
   "outputs": [
    {
     "data": {
      "text/plain": [
       "(5712, 80)"
      ]
     },
     "execution_count": 11,
     "metadata": {},
     "output_type": "execute_result"
    }
   ],
   "source": [
    "TrainX.shape"
   ]
  },
  {
   "cell_type": "code",
   "execution_count": 12,
   "id": "fa3f57ae",
   "metadata": {},
   "outputs": [],
   "source": [
    "TrainX_temp =  pd.DataFrame(data=TrainX, columns=X.columns)"
   ]
  },
  {
   "cell_type": "code",
   "execution_count": 13,
   "id": "8e526b8c",
   "metadata": {},
   "outputs": [],
   "source": [
    "TrainX_temp['As'] = TrainY"
   ]
  },
  {
   "cell_type": "code",
   "execution_count": 14,
   "id": "103c63e6",
   "metadata": {},
   "outputs": [
    {
     "data": {
      "text/html": [
       "<div>\n",
       "<style scoped>\n",
       "    .dataframe tbody tr th:only-of-type {\n",
       "        vertical-align: middle;\n",
       "    }\n",
       "\n",
       "    .dataframe tbody tr th {\n",
       "        vertical-align: top;\n",
       "    }\n",
       "\n",
       "    .dataframe thead th {\n",
       "        text-align: right;\n",
       "    }\n",
       "</style>\n",
       "<table border=\"1\" class=\"dataframe\">\n",
       "  <thead>\n",
       "    <tr style=\"text-align: right;\">\n",
       "      <th></th>\n",
       "      <th>WellDepth</th>\n",
       "      <th>AvgAnnualN_CAFO_1992_97</th>\n",
       "      <th>AvgAnnualN_Fert_1992_2001</th>\n",
       "      <th>AWC</th>\n",
       "      <th>AWS25</th>\n",
       "      <th>BFI</th>\n",
       "      <th>BottomAquiferDepth</th>\n",
       "      <th>BottomAquiferThick</th>\n",
       "      <th>C_Al</th>\n",
       "      <th>C_As</th>\n",
       "      <th>...</th>\n",
       "      <th>StrmDensity</th>\n",
       "      <th>SubsrfCntctTime</th>\n",
       "      <th>Transmiss</th>\n",
       "      <th>TWI</th>\n",
       "      <th>VRT</th>\n",
       "      <th>VWC</th>\n",
       "      <th>YngWtrMeanAge</th>\n",
       "      <th>YngWtrMeanAge_VertMean</th>\n",
       "      <th>DTW</th>\n",
       "      <th>As</th>\n",
       "    </tr>\n",
       "  </thead>\n",
       "  <tbody>\n",
       "    <tr>\n",
       "      <th>0</th>\n",
       "      <td>105.912831</td>\n",
       "      <td>16.678065</td>\n",
       "      <td>48.483771</td>\n",
       "      <td>0.141277</td>\n",
       "      <td>5.384314</td>\n",
       "      <td>21.0</td>\n",
       "      <td>32.00</td>\n",
       "      <td>11.30</td>\n",
       "      <td>5.159124</td>\n",
       "      <td>12.070174</td>\n",
       "      <td>...</td>\n",
       "      <td>0.067079</td>\n",
       "      <td>16879.292680</td>\n",
       "      <td>143.362904</td>\n",
       "      <td>9.902970</td>\n",
       "      <td>5.956547</td>\n",
       "      <td>0.304000</td>\n",
       "      <td>23.158235</td>\n",
       "      <td>17.689265</td>\n",
       "      <td>3.082386</td>\n",
       "      <td>6.0</td>\n",
       "    </tr>\n",
       "    <tr>\n",
       "      <th>1</th>\n",
       "      <td>54.861323</td>\n",
       "      <td>7.688502</td>\n",
       "      <td>50.638261</td>\n",
       "      <td>0.217775</td>\n",
       "      <td>7.311919</td>\n",
       "      <td>37.0</td>\n",
       "      <td>26.21</td>\n",
       "      <td>10.49</td>\n",
       "      <td>5.425271</td>\n",
       "      <td>8.616256</td>\n",
       "      <td>...</td>\n",
       "      <td>0.045091</td>\n",
       "      <td>6868.292683</td>\n",
       "      <td>137.152244</td>\n",
       "      <td>9.067347</td>\n",
       "      <td>4.196766</td>\n",
       "      <td>0.343552</td>\n",
       "      <td>22.015855</td>\n",
       "      <td>17.739371</td>\n",
       "      <td>3.076582</td>\n",
       "      <td>1.0</td>\n",
       "    </tr>\n",
       "    <tr>\n",
       "      <th>2</th>\n",
       "      <td>34.745504</td>\n",
       "      <td>6.245885</td>\n",
       "      <td>43.503552</td>\n",
       "      <td>0.140200</td>\n",
       "      <td>5.400000</td>\n",
       "      <td>33.0</td>\n",
       "      <td>25.90</td>\n",
       "      <td>6.86</td>\n",
       "      <td>4.866556</td>\n",
       "      <td>7.348610</td>\n",
       "      <td>...</td>\n",
       "      <td>0.065535</td>\n",
       "      <td>22117.650000</td>\n",
       "      <td>121.646066</td>\n",
       "      <td>11.470297</td>\n",
       "      <td>17.558480</td>\n",
       "      <td>0.270166</td>\n",
       "      <td>17.762669</td>\n",
       "      <td>15.950136</td>\n",
       "      <td>5.645093</td>\n",
       "      <td>13.0</td>\n",
       "    </tr>\n",
       "    <tr>\n",
       "      <th>3</th>\n",
       "      <td>59.737885</td>\n",
       "      <td>4.900404</td>\n",
       "      <td>34.132068</td>\n",
       "      <td>0.154753</td>\n",
       "      <td>5.318469</td>\n",
       "      <td>37.0</td>\n",
       "      <td>19.20</td>\n",
       "      <td>15.34</td>\n",
       "      <td>5.425271</td>\n",
       "      <td>8.616256</td>\n",
       "      <td>...</td>\n",
       "      <td>0.090175</td>\n",
       "      <td>5731.195122</td>\n",
       "      <td>298.232568</td>\n",
       "      <td>9.815662</td>\n",
       "      <td>1.231952</td>\n",
       "      <td>0.328985</td>\n",
       "      <td>27.709500</td>\n",
       "      <td>17.589893</td>\n",
       "      <td>1.044807</td>\n",
       "      <td>1.0</td>\n",
       "    </tr>\n",
       "    <tr>\n",
       "      <th>4</th>\n",
       "      <td>45.717769</td>\n",
       "      <td>6.511748</td>\n",
       "      <td>45.355325</td>\n",
       "      <td>0.140200</td>\n",
       "      <td>5.400000</td>\n",
       "      <td>28.0</td>\n",
       "      <td>24.38</td>\n",
       "      <td>12.11</td>\n",
       "      <td>4.194549</td>\n",
       "      <td>6.013048</td>\n",
       "      <td>...</td>\n",
       "      <td>0.118289</td>\n",
       "      <td>2241.000000</td>\n",
       "      <td>97.123320</td>\n",
       "      <td>9.435353</td>\n",
       "      <td>21.539828</td>\n",
       "      <td>0.268193</td>\n",
       "      <td>19.238581</td>\n",
       "      <td>14.557619</td>\n",
       "      <td>8.535328</td>\n",
       "      <td>2.0</td>\n",
       "    </tr>\n",
       "    <tr>\n",
       "      <th>...</th>\n",
       "      <td>...</td>\n",
       "      <td>...</td>\n",
       "      <td>...</td>\n",
       "      <td>...</td>\n",
       "      <td>...</td>\n",
       "      <td>...</td>\n",
       "      <td>...</td>\n",
       "      <td>...</td>\n",
       "      <td>...</td>\n",
       "      <td>...</td>\n",
       "      <td>...</td>\n",
       "      <td>...</td>\n",
       "      <td>...</td>\n",
       "      <td>...</td>\n",
       "      <td>...</td>\n",
       "      <td>...</td>\n",
       "      <td>...</td>\n",
       "      <td>...</td>\n",
       "      <td>...</td>\n",
       "      <td>...</td>\n",
       "      <td>...</td>\n",
       "    </tr>\n",
       "    <tr>\n",
       "      <th>5707</th>\n",
       "      <td>13.105760</td>\n",
       "      <td>0.000000</td>\n",
       "      <td>0.000000</td>\n",
       "      <td>0.186081</td>\n",
       "      <td>5.640000</td>\n",
       "      <td>49.0</td>\n",
       "      <td>32.00</td>\n",
       "      <td>9.69</td>\n",
       "      <td>7.309581</td>\n",
       "      <td>7.544010</td>\n",
       "      <td>...</td>\n",
       "      <td>0.108167</td>\n",
       "      <td>232.000000</td>\n",
       "      <td>43.910531</td>\n",
       "      <td>8.595918</td>\n",
       "      <td>17.091774</td>\n",
       "      <td>0.317946</td>\n",
       "      <td>11.586850</td>\n",
       "      <td>12.488755</td>\n",
       "      <td>29.686009</td>\n",
       "      <td>9.0</td>\n",
       "    </tr>\n",
       "    <tr>\n",
       "      <th>5708</th>\n",
       "      <td>42.669918</td>\n",
       "      <td>0.000000</td>\n",
       "      <td>0.000000</td>\n",
       "      <td>0.186081</td>\n",
       "      <td>5.640000</td>\n",
       "      <td>49.0</td>\n",
       "      <td>24.68</td>\n",
       "      <td>15.34</td>\n",
       "      <td>7.309581</td>\n",
       "      <td>7.544010</td>\n",
       "      <td>...</td>\n",
       "      <td>0.112736</td>\n",
       "      <td>232.000000</td>\n",
       "      <td>59.775724</td>\n",
       "      <td>8.772000</td>\n",
       "      <td>2.288920</td>\n",
       "      <td>0.385477</td>\n",
       "      <td>13.179888</td>\n",
       "      <td>17.785511</td>\n",
       "      <td>4.281054</td>\n",
       "      <td>6.0</td>\n",
       "    </tr>\n",
       "    <tr>\n",
       "      <th>5709</th>\n",
       "      <td>20.572996</td>\n",
       "      <td>0.063052</td>\n",
       "      <td>0.219718</td>\n",
       "      <td>0.085234</td>\n",
       "      <td>3.980000</td>\n",
       "      <td>76.0</td>\n",
       "      <td>2.74</td>\n",
       "      <td>11.71</td>\n",
       "      <td>7.684737</td>\n",
       "      <td>4.484164</td>\n",
       "      <td>...</td>\n",
       "      <td>0.080041</td>\n",
       "      <td>20.380952</td>\n",
       "      <td>18.103908</td>\n",
       "      <td>9.821649</td>\n",
       "      <td>2.375878</td>\n",
       "      <td>0.258359</td>\n",
       "      <td>23.140143</td>\n",
       "      <td>18.060309</td>\n",
       "      <td>3.256990</td>\n",
       "      <td>3.0</td>\n",
       "    </tr>\n",
       "    <tr>\n",
       "      <th>5710</th>\n",
       "      <td>12.496190</td>\n",
       "      <td>0.000000</td>\n",
       "      <td>0.000000</td>\n",
       "      <td>0.186081</td>\n",
       "      <td>5.640000</td>\n",
       "      <td>49.0</td>\n",
       "      <td>29.87</td>\n",
       "      <td>9.28</td>\n",
       "      <td>7.699320</td>\n",
       "      <td>8.899213</td>\n",
       "      <td>...</td>\n",
       "      <td>0.114225</td>\n",
       "      <td>232.000000</td>\n",
       "      <td>51.502025</td>\n",
       "      <td>8.153000</td>\n",
       "      <td>9.602142</td>\n",
       "      <td>0.322142</td>\n",
       "      <td>11.171461</td>\n",
       "      <td>17.833561</td>\n",
       "      <td>17.529744</td>\n",
       "      <td>11.0</td>\n",
       "    </tr>\n",
       "    <tr>\n",
       "      <th>5711</th>\n",
       "      <td>12.800975</td>\n",
       "      <td>1.732035</td>\n",
       "      <td>6.035603</td>\n",
       "      <td>0.129333</td>\n",
       "      <td>4.300000</td>\n",
       "      <td>64.0</td>\n",
       "      <td>1.21</td>\n",
       "      <td>26.24</td>\n",
       "      <td>6.961677</td>\n",
       "      <td>4.903113</td>\n",
       "      <td>...</td>\n",
       "      <td>0.098419</td>\n",
       "      <td>41.000000</td>\n",
       "      <td>884.776879</td>\n",
       "      <td>17.921212</td>\n",
       "      <td>0.679531</td>\n",
       "      <td>0.358983</td>\n",
       "      <td>16.816880</td>\n",
       "      <td>23.125201</td>\n",
       "      <td>0.293393</td>\n",
       "      <td>0.0</td>\n",
       "    </tr>\n",
       "  </tbody>\n",
       "</table>\n",
       "<p>5712 rows × 81 columns</p>\n",
       "</div>"
      ],
      "text/plain": [
       "       WellDepth  AvgAnnualN_CAFO_1992_97  AvgAnnualN_Fert_1992_2001  \\\n",
       "0     105.912831                16.678065                  48.483771   \n",
       "1      54.861323                 7.688502                  50.638261   \n",
       "2      34.745504                 6.245885                  43.503552   \n",
       "3      59.737885                 4.900404                  34.132068   \n",
       "4      45.717769                 6.511748                  45.355325   \n",
       "...          ...                      ...                        ...   \n",
       "5707   13.105760                 0.000000                   0.000000   \n",
       "5708   42.669918                 0.000000                   0.000000   \n",
       "5709   20.572996                 0.063052                   0.219718   \n",
       "5710   12.496190                 0.000000                   0.000000   \n",
       "5711   12.800975                 1.732035                   6.035603   \n",
       "\n",
       "           AWC     AWS25   BFI  BottomAquiferDepth  BottomAquiferThick  \\\n",
       "0     0.141277  5.384314  21.0               32.00               11.30   \n",
       "1     0.217775  7.311919  37.0               26.21               10.49   \n",
       "2     0.140200  5.400000  33.0               25.90                6.86   \n",
       "3     0.154753  5.318469  37.0               19.20               15.34   \n",
       "4     0.140200  5.400000  28.0               24.38               12.11   \n",
       "...        ...       ...   ...                 ...                 ...   \n",
       "5707  0.186081  5.640000  49.0               32.00                9.69   \n",
       "5708  0.186081  5.640000  49.0               24.68               15.34   \n",
       "5709  0.085234  3.980000  76.0                2.74               11.71   \n",
       "5710  0.186081  5.640000  49.0               29.87                9.28   \n",
       "5711  0.129333  4.300000  64.0                1.21               26.24   \n",
       "\n",
       "          C_Al       C_As  ...  StrmDensity  SubsrfCntctTime   Transmiss  \\\n",
       "0     5.159124  12.070174  ...     0.067079     16879.292680  143.362904   \n",
       "1     5.425271   8.616256  ...     0.045091      6868.292683  137.152244   \n",
       "2     4.866556   7.348610  ...     0.065535     22117.650000  121.646066   \n",
       "3     5.425271   8.616256  ...     0.090175      5731.195122  298.232568   \n",
       "4     4.194549   6.013048  ...     0.118289      2241.000000   97.123320   \n",
       "...        ...        ...  ...          ...              ...         ...   \n",
       "5707  7.309581   7.544010  ...     0.108167       232.000000   43.910531   \n",
       "5708  7.309581   7.544010  ...     0.112736       232.000000   59.775724   \n",
       "5709  7.684737   4.484164  ...     0.080041        20.380952   18.103908   \n",
       "5710  7.699320   8.899213  ...     0.114225       232.000000   51.502025   \n",
       "5711  6.961677   4.903113  ...     0.098419        41.000000  884.776879   \n",
       "\n",
       "            TWI        VRT       VWC  YngWtrMeanAge  YngWtrMeanAge_VertMean  \\\n",
       "0      9.902970   5.956547  0.304000      23.158235               17.689265   \n",
       "1      9.067347   4.196766  0.343552      22.015855               17.739371   \n",
       "2     11.470297  17.558480  0.270166      17.762669               15.950136   \n",
       "3      9.815662   1.231952  0.328985      27.709500               17.589893   \n",
       "4      9.435353  21.539828  0.268193      19.238581               14.557619   \n",
       "...         ...        ...       ...            ...                     ...   \n",
       "5707   8.595918  17.091774  0.317946      11.586850               12.488755   \n",
       "5708   8.772000   2.288920  0.385477      13.179888               17.785511   \n",
       "5709   9.821649   2.375878  0.258359      23.140143               18.060309   \n",
       "5710   8.153000   9.602142  0.322142      11.171461               17.833561   \n",
       "5711  17.921212   0.679531  0.358983      16.816880               23.125201   \n",
       "\n",
       "            DTW    As  \n",
       "0      3.082386   6.0  \n",
       "1      3.076582   1.0  \n",
       "2      5.645093  13.0  \n",
       "3      1.044807   1.0  \n",
       "4      8.535328   2.0  \n",
       "...         ...   ...  \n",
       "5707  29.686009   9.0  \n",
       "5708   4.281054   6.0  \n",
       "5709   3.256990   3.0  \n",
       "5710  17.529744  11.0  \n",
       "5711   0.293393   0.0  \n",
       "\n",
       "[5712 rows x 81 columns]"
      ]
     },
     "execution_count": 14,
     "metadata": {},
     "output_type": "execute_result"
    }
   ],
   "source": [
    "TrainX_temp"
   ]
  },
  {
   "cell_type": "code",
   "execution_count": 15,
   "id": "13971629",
   "metadata": {},
   "outputs": [],
   "source": [
    "df_arsenic_prelim = TrainX_temp\n",
    "df_10_to_25 = pd.DataFrame()\n",
    "df_25_to_50 = pd.DataFrame()\n",
    "df_50_to_100 = pd.DataFrame()\n",
    "df_above_100 = pd.DataFrame() \n",
    "\n",
    "for i in range(df_arsenic_prelim.shape[0]):\n",
    "    val = df_arsenic_prelim.iloc[i]['As']\n",
    "    if 10 < val < 25:\n",
    "        df_10_to_25 = df_10_to_25.append(df_arsenic_prelim.iloc[i])\n",
    "    elif 25 < val < 50:\n",
    "        df_25_to_50 = df_25_to_50.append(df_arsenic_prelim.iloc[i])\n",
    "    elif 50 < val < 100:\n",
    "        df_50_to_100 = df_50_to_100.append(df_arsenic_prelim.iloc[i])\n",
    "    elif val > 100:\n",
    "        df_above_100 = df_above_100.append(df_arsenic_prelim.iloc[i]) "
   ]
  },
  {
   "cell_type": "code",
   "execution_count": 16,
   "id": "26a0f9ce",
   "metadata": {},
   "outputs": [
    {
     "data": {
      "text/plain": [
       "(4632, 81)"
      ]
     },
     "execution_count": 16,
     "metadata": {},
     "output_type": "execute_result"
    }
   ],
   "source": [
    "df_balanced_1 = pd.DataFrame()\n",
    "#2,3,5,25\n",
    "\n",
    "df_balanced_1 = df_balanced_1.append([df_10_to_25]*5)\n",
    "df_balanced_1 = df_balanced_1.append([df_25_to_50]*8)\n",
    "df_balanced_1 = df_balanced_1.append([df_50_to_100]*10)\n",
    "df_balanced_1 = df_balanced_1.append([df_above_100]*30)\n",
    "df_balanced_1.shape"
   ]
  },
  {
   "cell_type": "code",
   "execution_count": 17,
   "id": "79b35285",
   "metadata": {},
   "outputs": [
    {
     "data": {
      "text/html": [
       "<div>\n",
       "<style scoped>\n",
       "    .dataframe tbody tr th:only-of-type {\n",
       "        vertical-align: middle;\n",
       "    }\n",
       "\n",
       "    .dataframe tbody tr th {\n",
       "        vertical-align: top;\n",
       "    }\n",
       "\n",
       "    .dataframe thead th {\n",
       "        text-align: right;\n",
       "    }\n",
       "</style>\n",
       "<table border=\"1\" class=\"dataframe\">\n",
       "  <thead>\n",
       "    <tr style=\"text-align: right;\">\n",
       "      <th></th>\n",
       "      <th>WellDepth</th>\n",
       "      <th>AvgAnnualN_CAFO_1992_97</th>\n",
       "      <th>AvgAnnualN_Fert_1992_2001</th>\n",
       "      <th>AWC</th>\n",
       "      <th>AWS25</th>\n",
       "      <th>BFI</th>\n",
       "      <th>BottomAquiferDepth</th>\n",
       "      <th>BottomAquiferThick</th>\n",
       "      <th>C_Al</th>\n",
       "      <th>C_As</th>\n",
       "      <th>...</th>\n",
       "      <th>StrmDensity</th>\n",
       "      <th>SubsrfCntctTime</th>\n",
       "      <th>Transmiss</th>\n",
       "      <th>TWI</th>\n",
       "      <th>VRT</th>\n",
       "      <th>VWC</th>\n",
       "      <th>YngWtrMeanAge</th>\n",
       "      <th>YngWtrMeanAge_VertMean</th>\n",
       "      <th>DTW</th>\n",
       "      <th>As</th>\n",
       "    </tr>\n",
       "  </thead>\n",
       "  <tbody>\n",
       "    <tr>\n",
       "      <th>2</th>\n",
       "      <td>34.745504</td>\n",
       "      <td>6.245885</td>\n",
       "      <td>43.503552</td>\n",
       "      <td>0.140200</td>\n",
       "      <td>5.400000</td>\n",
       "      <td>33.0</td>\n",
       "      <td>25.90</td>\n",
       "      <td>6.86</td>\n",
       "      <td>4.866556</td>\n",
       "      <td>7.348610</td>\n",
       "      <td>...</td>\n",
       "      <td>0.065535</td>\n",
       "      <td>22117.650000</td>\n",
       "      <td>121.646066</td>\n",
       "      <td>11.470297</td>\n",
       "      <td>17.558480</td>\n",
       "      <td>0.270166</td>\n",
       "      <td>17.762669</td>\n",
       "      <td>15.950136</td>\n",
       "      <td>5.645093</td>\n",
       "      <td>13.0</td>\n",
       "    </tr>\n",
       "    <tr>\n",
       "      <th>54</th>\n",
       "      <td>55.775678</td>\n",
       "      <td>25.739285</td>\n",
       "      <td>59.777201</td>\n",
       "      <td>0.155308</td>\n",
       "      <td>4.660000</td>\n",
       "      <td>46.0</td>\n",
       "      <td>16.15</td>\n",
       "      <td>4.84</td>\n",
       "      <td>3.959868</td>\n",
       "      <td>5.430375</td>\n",
       "      <td>...</td>\n",
       "      <td>0.000000</td>\n",
       "      <td>601.000000</td>\n",
       "      <td>270.735863</td>\n",
       "      <td>9.848958</td>\n",
       "      <td>3.451647</td>\n",
       "      <td>0.283160</td>\n",
       "      <td>20.659734</td>\n",
       "      <td>17.304256</td>\n",
       "      <td>3.546806</td>\n",
       "      <td>14.0</td>\n",
       "    </tr>\n",
       "    <tr>\n",
       "      <th>56</th>\n",
       "      <td>62.480951</td>\n",
       "      <td>24.086462</td>\n",
       "      <td>55.938680</td>\n",
       "      <td>0.146762</td>\n",
       "      <td>5.080784</td>\n",
       "      <td>47.0</td>\n",
       "      <td>47.54</td>\n",
       "      <td>6.05</td>\n",
       "      <td>4.068086</td>\n",
       "      <td>5.666603</td>\n",
       "      <td>...</td>\n",
       "      <td>0.023082</td>\n",
       "      <td>943.000000</td>\n",
       "      <td>116.548961</td>\n",
       "      <td>9.808163</td>\n",
       "      <td>6.727938</td>\n",
       "      <td>0.256678</td>\n",
       "      <td>25.487637</td>\n",
       "      <td>16.523225</td>\n",
       "      <td>6.246579</td>\n",
       "      <td>14.0</td>\n",
       "    </tr>\n",
       "    <tr>\n",
       "      <th>71</th>\n",
       "      <td>26.821091</td>\n",
       "      <td>19.214488</td>\n",
       "      <td>49.705075</td>\n",
       "      <td>0.103134</td>\n",
       "      <td>3.239200</td>\n",
       "      <td>67.0</td>\n",
       "      <td>24.68</td>\n",
       "      <td>9.69</td>\n",
       "      <td>3.470435</td>\n",
       "      <td>4.712856</td>\n",
       "      <td>...</td>\n",
       "      <td>0.074355</td>\n",
       "      <td>512.000000</td>\n",
       "      <td>309.981957</td>\n",
       "      <td>10.011000</td>\n",
       "      <td>3.760686</td>\n",
       "      <td>0.252461</td>\n",
       "      <td>10.411219</td>\n",
       "      <td>16.206637</td>\n",
       "      <td>5.168996</td>\n",
       "      <td>20.0</td>\n",
       "    </tr>\n",
       "    <tr>\n",
       "      <th>76</th>\n",
       "      <td>30.478513</td>\n",
       "      <td>22.268073</td>\n",
       "      <td>57.604260</td>\n",
       "      <td>0.150470</td>\n",
       "      <td>5.520000</td>\n",
       "      <td>66.0</td>\n",
       "      <td>16.76</td>\n",
       "      <td>11.30</td>\n",
       "      <td>3.276386</td>\n",
       "      <td>3.975524</td>\n",
       "      <td>...</td>\n",
       "      <td>0.055811</td>\n",
       "      <td>458.925000</td>\n",
       "      <td>181.613303</td>\n",
       "      <td>9.161616</td>\n",
       "      <td>11.476359</td>\n",
       "      <td>0.251809</td>\n",
       "      <td>6.260919</td>\n",
       "      <td>14.962004</td>\n",
       "      <td>8.805068</td>\n",
       "      <td>15.0</td>\n",
       "    </tr>\n",
       "    <tr>\n",
       "      <th>...</th>\n",
       "      <td>...</td>\n",
       "      <td>...</td>\n",
       "      <td>...</td>\n",
       "      <td>...</td>\n",
       "      <td>...</td>\n",
       "      <td>...</td>\n",
       "      <td>...</td>\n",
       "      <td>...</td>\n",
       "      <td>...</td>\n",
       "      <td>...</td>\n",
       "      <td>...</td>\n",
       "      <td>...</td>\n",
       "      <td>...</td>\n",
       "      <td>...</td>\n",
       "      <td>...</td>\n",
       "      <td>...</td>\n",
       "      <td>...</td>\n",
       "      <td>...</td>\n",
       "      <td>...</td>\n",
       "      <td>...</td>\n",
       "      <td>...</td>\n",
       "    </tr>\n",
       "    <tr>\n",
       "      <th>3223</th>\n",
       "      <td>54.861323</td>\n",
       "      <td>0.986283</td>\n",
       "      <td>62.109270</td>\n",
       "      <td>0.174354</td>\n",
       "      <td>4.880000</td>\n",
       "      <td>27.0</td>\n",
       "      <td>30.48</td>\n",
       "      <td>14.53</td>\n",
       "      <td>4.359010</td>\n",
       "      <td>8.387321</td>\n",
       "      <td>...</td>\n",
       "      <td>0.060446</td>\n",
       "      <td>442.357143</td>\n",
       "      <td>2915.174716</td>\n",
       "      <td>10.737501</td>\n",
       "      <td>49.185336</td>\n",
       "      <td>0.268255</td>\n",
       "      <td>7.411820</td>\n",
       "      <td>16.192014</td>\n",
       "      <td>6.507833</td>\n",
       "      <td>101.0</td>\n",
       "    </tr>\n",
       "    <tr>\n",
       "      <th>3302</th>\n",
       "      <td>18.287108</td>\n",
       "      <td>2.216946</td>\n",
       "      <td>63.306051</td>\n",
       "      <td>0.097286</td>\n",
       "      <td>3.050000</td>\n",
       "      <td>34.0</td>\n",
       "      <td>9.14</td>\n",
       "      <td>14.13</td>\n",
       "      <td>3.665549</td>\n",
       "      <td>3.363381</td>\n",
       "      <td>...</td>\n",
       "      <td>0.000342</td>\n",
       "      <td>1682.292683</td>\n",
       "      <td>284.990701</td>\n",
       "      <td>11.373999</td>\n",
       "      <td>4.719260</td>\n",
       "      <td>0.255643</td>\n",
       "      <td>13.436427</td>\n",
       "      <td>21.904810</td>\n",
       "      <td>2.946778</td>\n",
       "      <td>128.0</td>\n",
       "    </tr>\n",
       "    <tr>\n",
       "      <th>3735</th>\n",
       "      <td>16.153612</td>\n",
       "      <td>6.167275</td>\n",
       "      <td>85.076774</td>\n",
       "      <td>0.131609</td>\n",
       "      <td>4.604000</td>\n",
       "      <td>26.0</td>\n",
       "      <td>6.09</td>\n",
       "      <td>5.24</td>\n",
       "      <td>6.889934</td>\n",
       "      <td>19.334936</td>\n",
       "      <td>...</td>\n",
       "      <td>0.123126</td>\n",
       "      <td>2477.209302</td>\n",
       "      <td>145.175903</td>\n",
       "      <td>9.927273</td>\n",
       "      <td>8.820678</td>\n",
       "      <td>0.331771</td>\n",
       "      <td>31.908611</td>\n",
       "      <td>21.329399</td>\n",
       "      <td>2.657673</td>\n",
       "      <td>225.0</td>\n",
       "    </tr>\n",
       "    <tr>\n",
       "      <th>4877</th>\n",
       "      <td>4.571777</td>\n",
       "      <td>0.093395</td>\n",
       "      <td>1.171012</td>\n",
       "      <td>0.122901</td>\n",
       "      <td>3.750000</td>\n",
       "      <td>32.0</td>\n",
       "      <td>0.45</td>\n",
       "      <td>8.27</td>\n",
       "      <td>5.296440</td>\n",
       "      <td>10.518550</td>\n",
       "      <td>...</td>\n",
       "      <td>0.174316</td>\n",
       "      <td>171.000000</td>\n",
       "      <td>665.344727</td>\n",
       "      <td>12.974747</td>\n",
       "      <td>0.511656</td>\n",
       "      <td>0.335629</td>\n",
       "      <td>8.738865</td>\n",
       "      <td>13.505758</td>\n",
       "      <td>0.706900</td>\n",
       "      <td>127.0</td>\n",
       "    </tr>\n",
       "    <tr>\n",
       "      <th>5677</th>\n",
       "      <td>10.057909</td>\n",
       "      <td>17.430244</td>\n",
       "      <td>8.945573</td>\n",
       "      <td>0.186081</td>\n",
       "      <td>5.640000</td>\n",
       "      <td>51.0</td>\n",
       "      <td>3.35</td>\n",
       "      <td>9.28</td>\n",
       "      <td>7.221503</td>\n",
       "      <td>8.498580</td>\n",
       "      <td>...</td>\n",
       "      <td>0.135488</td>\n",
       "      <td>35.000000</td>\n",
       "      <td>116.671220</td>\n",
       "      <td>10.220000</td>\n",
       "      <td>2.440301</td>\n",
       "      <td>0.366358</td>\n",
       "      <td>7.113931</td>\n",
       "      <td>10.557549</td>\n",
       "      <td>3.514776</td>\n",
       "      <td>280.0</td>\n",
       "    </tr>\n",
       "  </tbody>\n",
       "</table>\n",
       "<p>4632 rows × 81 columns</p>\n",
       "</div>"
      ],
      "text/plain": [
       "      WellDepth  AvgAnnualN_CAFO_1992_97  AvgAnnualN_Fert_1992_2001       AWC  \\\n",
       "2     34.745504                 6.245885                  43.503552  0.140200   \n",
       "54    55.775678                25.739285                  59.777201  0.155308   \n",
       "56    62.480951                24.086462                  55.938680  0.146762   \n",
       "71    26.821091                19.214488                  49.705075  0.103134   \n",
       "76    30.478513                22.268073                  57.604260  0.150470   \n",
       "...         ...                      ...                        ...       ...   \n",
       "3223  54.861323                 0.986283                  62.109270  0.174354   \n",
       "3302  18.287108                 2.216946                  63.306051  0.097286   \n",
       "3735  16.153612                 6.167275                  85.076774  0.131609   \n",
       "4877   4.571777                 0.093395                   1.171012  0.122901   \n",
       "5677  10.057909                17.430244                   8.945573  0.186081   \n",
       "\n",
       "         AWS25   BFI  BottomAquiferDepth  BottomAquiferThick      C_Al  \\\n",
       "2     5.400000  33.0               25.90                6.86  4.866556   \n",
       "54    4.660000  46.0               16.15                4.84  3.959868   \n",
       "56    5.080784  47.0               47.54                6.05  4.068086   \n",
       "71    3.239200  67.0               24.68                9.69  3.470435   \n",
       "76    5.520000  66.0               16.76               11.30  3.276386   \n",
       "...        ...   ...                 ...                 ...       ...   \n",
       "3223  4.880000  27.0               30.48               14.53  4.359010   \n",
       "3302  3.050000  34.0                9.14               14.13  3.665549   \n",
       "3735  4.604000  26.0                6.09                5.24  6.889934   \n",
       "4877  3.750000  32.0                0.45                8.27  5.296440   \n",
       "5677  5.640000  51.0                3.35                9.28  7.221503   \n",
       "\n",
       "           C_As  ...  StrmDensity  SubsrfCntctTime    Transmiss        TWI  \\\n",
       "2      7.348610  ...     0.065535     22117.650000   121.646066  11.470297   \n",
       "54     5.430375  ...     0.000000       601.000000   270.735863   9.848958   \n",
       "56     5.666603  ...     0.023082       943.000000   116.548961   9.808163   \n",
       "71     4.712856  ...     0.074355       512.000000   309.981957  10.011000   \n",
       "76     3.975524  ...     0.055811       458.925000   181.613303   9.161616   \n",
       "...         ...  ...          ...              ...          ...        ...   \n",
       "3223   8.387321  ...     0.060446       442.357143  2915.174716  10.737501   \n",
       "3302   3.363381  ...     0.000342      1682.292683   284.990701  11.373999   \n",
       "3735  19.334936  ...     0.123126      2477.209302   145.175903   9.927273   \n",
       "4877  10.518550  ...     0.174316       171.000000   665.344727  12.974747   \n",
       "5677   8.498580  ...     0.135488        35.000000   116.671220  10.220000   \n",
       "\n",
       "            VRT       VWC  YngWtrMeanAge  YngWtrMeanAge_VertMean       DTW  \\\n",
       "2     17.558480  0.270166      17.762669               15.950136  5.645093   \n",
       "54     3.451647  0.283160      20.659734               17.304256  3.546806   \n",
       "56     6.727938  0.256678      25.487637               16.523225  6.246579   \n",
       "71     3.760686  0.252461      10.411219               16.206637  5.168996   \n",
       "76    11.476359  0.251809       6.260919               14.962004  8.805068   \n",
       "...         ...       ...            ...                     ...       ...   \n",
       "3223  49.185336  0.268255       7.411820               16.192014  6.507833   \n",
       "3302   4.719260  0.255643      13.436427               21.904810  2.946778   \n",
       "3735   8.820678  0.331771      31.908611               21.329399  2.657673   \n",
       "4877   0.511656  0.335629       8.738865               13.505758  0.706900   \n",
       "5677   2.440301  0.366358       7.113931               10.557549  3.514776   \n",
       "\n",
       "         As  \n",
       "2      13.0  \n",
       "54     14.0  \n",
       "56     14.0  \n",
       "71     20.0  \n",
       "76     15.0  \n",
       "...     ...  \n",
       "3223  101.0  \n",
       "3302  128.0  \n",
       "3735  225.0  \n",
       "4877  127.0  \n",
       "5677  280.0  \n",
       "\n",
       "[4632 rows x 81 columns]"
      ]
     },
     "execution_count": 17,
     "metadata": {},
     "output_type": "execute_result"
    }
   ],
   "source": [
    "df_balanced_1"
   ]
  },
  {
   "cell_type": "code",
   "execution_count": 18,
   "id": "eccd6b8f",
   "metadata": {},
   "outputs": [],
   "source": [
    "df_arsenic_prelim = df_arsenic_prelim.append(df_balanced_1)\n",
    "df_arsenic_prelim = shuffle(df_arsenic_prelim)"
   ]
  },
  {
   "cell_type": "code",
   "execution_count": 19,
   "id": "fabe26bb",
   "metadata": {},
   "outputs": [
    {
     "data": {
      "text/plain": [
       "(10344, 81)"
      ]
     },
     "execution_count": 19,
     "metadata": {},
     "output_type": "execute_result"
    }
   ],
   "source": [
    "df_arsenic_prelim.shape"
   ]
  },
  {
   "cell_type": "code",
   "execution_count": 20,
   "id": "12996c64",
   "metadata": {},
   "outputs": [],
   "source": [
    "TrainX = np.array(df_arsenic_prelim.iloc[:,:-1])\n",
    "TrainY = np.array(df_arsenic_prelim.iloc[:,-1])"
   ]
  },
  {
   "cell_type": "markdown",
   "id": "fbf613ca",
   "metadata": {},
   "source": [
    "##### Scaling the data using standard_scaler transformer"
   ]
  },
  {
   "cell_type": "code",
   "execution_count": 21,
   "id": "8bbffbec",
   "metadata": {},
   "outputs": [],
   "source": [
    "scaler_1 = sklearn.preprocessing.StandardScaler()\n",
    "#scaler_1 = sklearn.preprocessing.MinMaxScaler()\n",
    "scaler_1 = scaler_1.fit(TrainX)\n",
    "TrainX = scaler_1.transform(TrainX)\n",
    "TestX = scaler_1.transform(TestX)\n",
    "scaler_2 = sklearn.preprocessing.StandardScaler()\n",
    "#scaler_2 = sklearn.preprocessing.MinMaxScaler()\n",
    "scaler_2 = scaler_2.fit(TrainY.reshape(-1,1))\n",
    "TrainY = scaler_2.transform(TrainY.reshape(-1,1))\n",
    "TestY = scaler_2.transform(TestY.reshape(-1,1))\n",
    "TrainY = TrainY.reshape(-1)\n",
    "TestY = TestY.reshape(-1)"
   ]
  },
  {
   "cell_type": "code",
   "execution_count": 22,
   "id": "a7f2535e",
   "metadata": {},
   "outputs": [
    {
     "name": "stdout",
     "output_type": "stream",
     "text": [
      "Shape of TrainX:  (10344, 80)\n",
      "Shape of TestX:  (1904, 80)\n",
      "Shape of TrainY:  (10344,)\n",
      "Shape of TestY:  (1904,)\n"
     ]
    }
   ],
   "source": [
    "print('Shape of TrainX: ', TrainX.shape)\n",
    "print('Shape of TestX: ', TestX.shape)\n",
    "print('Shape of TrainY: ', TrainY.shape)\n",
    "print('Shape of TestY: ', TestY.shape) "
   ]
  },
  {
   "cell_type": "markdown",
   "id": "613f561b",
   "metadata": {},
   "source": [
    "##### Defining the MLP model"
   ]
  },
  {
   "cell_type": "code",
   "execution_count": 23,
   "id": "7de7c34e",
   "metadata": {},
   "outputs": [
    {
     "name": "stdout",
     "output_type": "stream",
     "text": [
      "Model: \"sequential\"\n",
      "_________________________________________________________________\n",
      "Layer (type)                 Output Shape              Param #   \n",
      "=================================================================\n",
      "dense (Dense)                (None, 200)               16200     \n",
      "_________________________________________________________________\n",
      "dense_1 (Dense)              (None, 80)                16080     \n",
      "_________________________________________________________________\n",
      "dense_2 (Dense)              (None, 75)                6075      \n",
      "_________________________________________________________________\n",
      "dense_3 (Dense)              (None, 54)                4104      \n",
      "_________________________________________________________________\n",
      "dense_4 (Dense)              (None, 32)                1760      \n",
      "_________________________________________________________________\n",
      "dense_5 (Dense)              (None, 1)                 33        \n",
      "=================================================================\n",
      "Total params: 44,252\n",
      "Trainable params: 44,252\n",
      "Non-trainable params: 0\n",
      "_________________________________________________________________\n"
     ]
    }
   ],
   "source": [
    "optimizer1 = tf.keras.optimizers.SGD(learning_rate=1e-6,momentum=0.9999,nesterov=True,name='SGD')\n",
    "model = tf.keras.models.Sequential()\n",
    "model.add(tf.keras.Input(shape=(80)))\n",
    "model.add(tf.keras.layers.Dense(200,activation='selu',kernel_initializer=tf.keras.initializers.LecunNormal))\n",
    "model.add(tf.keras.layers.Dense(80,activation='selu',kernel_initializer=tf.keras.initializers.LecunNormal))\n",
    "model.add(tf.keras.layers.Dense(75,activation='selu',kernel_initializer=tf.keras.initializers.LecunNormal))\n",
    "model.add(tf.keras.layers.Dense(54,activation='selu',kernel_initializer=tf.keras.initializers.LecunNormal))\n",
    "model.add(tf.keras.layers.Dense(32,activation='selu',kernel_initializer=tf.keras.initializers.LecunNormal))\n",
    "model.add(tf.keras.layers.Dense(1,kernel_initializer=tf.keras.initializers.GlorotUniform ))\n",
    "model.compile(optimizer=optimizer1, loss='mse')\n",
    "model.summary()"
   ]
  },
  {
   "cell_type": "markdown",
   "id": "0473aea4",
   "metadata": {},
   "source": [
    "##### Training the model"
   ]
  },
  {
   "cell_type": "code",
   "execution_count": 61,
   "id": "4248f610",
   "metadata": {},
   "outputs": [
    {
     "name": "stdout",
     "output_type": "stream",
     "text": [
      "Epoch 1/500\n",
      "308/308 [==============================] - 1s 2ms/step - loss: 0.0027 - val_loss: 0.0052\n",
      "Epoch 2/500\n",
      "308/308 [==============================] - 0s 1ms/step - loss: 0.0026 - val_loss: 0.0055\n",
      "Epoch 3/500\n",
      "308/308 [==============================] - 0s 1ms/step - loss: 0.0026 - val_loss: 0.0053\n",
      "Epoch 4/500\n",
      "308/308 [==============================] - 0s 1ms/step - loss: 0.0025 - val_loss: 0.0056\n",
      "Epoch 5/500\n",
      "308/308 [==============================] - 0s 1ms/step - loss: 0.0025 - val_loss: 0.0051\n",
      "Epoch 6/500\n",
      "308/308 [==============================] - 0s 1ms/step - loss: 0.0025 - val_loss: 0.0055\n",
      "Epoch 7/500\n",
      "308/308 [==============================] - 0s 1ms/step - loss: 0.0025 - val_loss: 0.0053\n",
      "Epoch 8/500\n",
      "308/308 [==============================] - 0s 1ms/step - loss: 0.0025 - val_loss: 0.0057\n",
      "Epoch 9/500\n",
      "308/308 [==============================] - 0s 1ms/step - loss: 0.0024 - val_loss: 0.0050\n",
      "Epoch 10/500\n",
      "308/308 [==============================] - 0s 1ms/step - loss: 0.0024 - val_loss: 0.0052\n",
      "Epoch 11/500\n",
      "308/308 [==============================] - 0s 1ms/step - loss: 0.0024 - val_loss: 0.0050\n",
      "Epoch 12/500\n",
      "308/308 [==============================] - 0s 1ms/step - loss: 0.0024 - val_loss: 0.0052\n",
      "Epoch 13/500\n",
      " 49/308 [===>..........................] - ETA: 0s - loss: 0.0023"
     ]
    },
    {
     "ename": "KeyboardInterrupt",
     "evalue": "",
     "output_type": "error",
     "traceback": [
      "\u001b[1;31m---------------------------------------------------------------------------\u001b[0m",
      "\u001b[1;31mKeyboardInterrupt\u001b[0m                         Traceback (most recent call last)",
      "\u001b[1;32m<ipython-input-61-3505dc16990a>\u001b[0m in \u001b[0;36m<module>\u001b[1;34m\u001b[0m\n\u001b[1;32m----> 1\u001b[1;33m \u001b[0mhistory\u001b[0m \u001b[1;33m=\u001b[0m \u001b[0mmodel\u001b[0m\u001b[1;33m.\u001b[0m\u001b[0mfit\u001b[0m\u001b[1;33m(\u001b[0m\u001b[0mTrainX\u001b[0m\u001b[1;33m,\u001b[0m \u001b[0mTrainY\u001b[0m\u001b[1;33m,\u001b[0m \u001b[0mepochs\u001b[0m\u001b[1;33m=\u001b[0m\u001b[1;36m500\u001b[0m\u001b[1;33m,\u001b[0m\u001b[0mvalidation_split\u001b[0m\u001b[1;33m=\u001b[0m\u001b[1;36m0.05\u001b[0m\u001b[1;33m,\u001b[0m \u001b[0mverbose\u001b[0m\u001b[1;33m=\u001b[0m\u001b[1;36m1\u001b[0m\u001b[1;33m)\u001b[0m\u001b[1;33m\u001b[0m\u001b[1;33m\u001b[0m\u001b[0m\n\u001b[0m",
      "\u001b[1;32mC:\\anaconda\\lib\\site-packages\\keras\\engine\\training.py\u001b[0m in \u001b[0;36mfit\u001b[1;34m(self, x, y, batch_size, epochs, verbose, callbacks, validation_split, validation_data, shuffle, class_weight, sample_weight, initial_epoch, steps_per_epoch, validation_steps, validation_batch_size, validation_freq, max_queue_size, workers, use_multiprocessing)\u001b[0m\n\u001b[0;32m   1182\u001b[0m                 _r=1):\n\u001b[0;32m   1183\u001b[0m               \u001b[0mcallbacks\u001b[0m\u001b[1;33m.\u001b[0m\u001b[0mon_train_batch_begin\u001b[0m\u001b[1;33m(\u001b[0m\u001b[0mstep\u001b[0m\u001b[1;33m)\u001b[0m\u001b[1;33m\u001b[0m\u001b[1;33m\u001b[0m\u001b[0m\n\u001b[1;32m-> 1184\u001b[1;33m               \u001b[0mtmp_logs\u001b[0m \u001b[1;33m=\u001b[0m \u001b[0mself\u001b[0m\u001b[1;33m.\u001b[0m\u001b[0mtrain_function\u001b[0m\u001b[1;33m(\u001b[0m\u001b[0miterator\u001b[0m\u001b[1;33m)\u001b[0m\u001b[1;33m\u001b[0m\u001b[1;33m\u001b[0m\u001b[0m\n\u001b[0m\u001b[0;32m   1185\u001b[0m               \u001b[1;32mif\u001b[0m \u001b[0mdata_handler\u001b[0m\u001b[1;33m.\u001b[0m\u001b[0mshould_sync\u001b[0m\u001b[1;33m:\u001b[0m\u001b[1;33m\u001b[0m\u001b[1;33m\u001b[0m\u001b[0m\n\u001b[0;32m   1186\u001b[0m                 \u001b[0mcontext\u001b[0m\u001b[1;33m.\u001b[0m\u001b[0masync_wait\u001b[0m\u001b[1;33m(\u001b[0m\u001b[1;33m)\u001b[0m\u001b[1;33m\u001b[0m\u001b[1;33m\u001b[0m\u001b[0m\n",
      "\u001b[1;32mC:\\anaconda\\lib\\site-packages\\tensorflow\\python\\eager\\def_function.py\u001b[0m in \u001b[0;36m__call__\u001b[1;34m(self, *args, **kwds)\u001b[0m\n\u001b[0;32m    883\u001b[0m \u001b[1;33m\u001b[0m\u001b[0m\n\u001b[0;32m    884\u001b[0m       \u001b[1;32mwith\u001b[0m \u001b[0mOptionalXlaContext\u001b[0m\u001b[1;33m(\u001b[0m\u001b[0mself\u001b[0m\u001b[1;33m.\u001b[0m\u001b[0m_jit_compile\u001b[0m\u001b[1;33m)\u001b[0m\u001b[1;33m:\u001b[0m\u001b[1;33m\u001b[0m\u001b[1;33m\u001b[0m\u001b[0m\n\u001b[1;32m--> 885\u001b[1;33m         \u001b[0mresult\u001b[0m \u001b[1;33m=\u001b[0m \u001b[0mself\u001b[0m\u001b[1;33m.\u001b[0m\u001b[0m_call\u001b[0m\u001b[1;33m(\u001b[0m\u001b[1;33m*\u001b[0m\u001b[0margs\u001b[0m\u001b[1;33m,\u001b[0m \u001b[1;33m**\u001b[0m\u001b[0mkwds\u001b[0m\u001b[1;33m)\u001b[0m\u001b[1;33m\u001b[0m\u001b[1;33m\u001b[0m\u001b[0m\n\u001b[0m\u001b[0;32m    886\u001b[0m \u001b[1;33m\u001b[0m\u001b[0m\n\u001b[0;32m    887\u001b[0m       \u001b[0mnew_tracing_count\u001b[0m \u001b[1;33m=\u001b[0m \u001b[0mself\u001b[0m\u001b[1;33m.\u001b[0m\u001b[0mexperimental_get_tracing_count\u001b[0m\u001b[1;33m(\u001b[0m\u001b[1;33m)\u001b[0m\u001b[1;33m\u001b[0m\u001b[1;33m\u001b[0m\u001b[0m\n",
      "\u001b[1;32mC:\\anaconda\\lib\\site-packages\\tensorflow\\python\\eager\\def_function.py\u001b[0m in \u001b[0;36m_call\u001b[1;34m(self, *args, **kwds)\u001b[0m\n\u001b[0;32m    915\u001b[0m       \u001b[1;31m# In this case we have created variables on the first call, so we run the\u001b[0m\u001b[1;33m\u001b[0m\u001b[1;33m\u001b[0m\u001b[1;33m\u001b[0m\u001b[0m\n\u001b[0;32m    916\u001b[0m       \u001b[1;31m# defunned version which is guaranteed to never create variables.\u001b[0m\u001b[1;33m\u001b[0m\u001b[1;33m\u001b[0m\u001b[1;33m\u001b[0m\u001b[0m\n\u001b[1;32m--> 917\u001b[1;33m       \u001b[1;32mreturn\u001b[0m \u001b[0mself\u001b[0m\u001b[1;33m.\u001b[0m\u001b[0m_stateless_fn\u001b[0m\u001b[1;33m(\u001b[0m\u001b[1;33m*\u001b[0m\u001b[0margs\u001b[0m\u001b[1;33m,\u001b[0m \u001b[1;33m**\u001b[0m\u001b[0mkwds\u001b[0m\u001b[1;33m)\u001b[0m  \u001b[1;31m# pylint: disable=not-callable\u001b[0m\u001b[1;33m\u001b[0m\u001b[1;33m\u001b[0m\u001b[0m\n\u001b[0m\u001b[0;32m    918\u001b[0m     \u001b[1;32melif\u001b[0m \u001b[0mself\u001b[0m\u001b[1;33m.\u001b[0m\u001b[0m_stateful_fn\u001b[0m \u001b[1;32mis\u001b[0m \u001b[1;32mnot\u001b[0m \u001b[1;32mNone\u001b[0m\u001b[1;33m:\u001b[0m\u001b[1;33m\u001b[0m\u001b[1;33m\u001b[0m\u001b[0m\n\u001b[0;32m    919\u001b[0m       \u001b[1;31m# Release the lock early so that multiple threads can perform the call\u001b[0m\u001b[1;33m\u001b[0m\u001b[1;33m\u001b[0m\u001b[1;33m\u001b[0m\u001b[0m\n",
      "\u001b[1;32mC:\\anaconda\\lib\\site-packages\\tensorflow\\python\\eager\\function.py\u001b[0m in \u001b[0;36m__call__\u001b[1;34m(self, *args, **kwargs)\u001b[0m\n\u001b[0;32m   3037\u001b[0m       (graph_function,\n\u001b[0;32m   3038\u001b[0m        filtered_flat_args) = self._maybe_define_function(args, kwargs)\n\u001b[1;32m-> 3039\u001b[1;33m     return graph_function._call_flat(\n\u001b[0m\u001b[0;32m   3040\u001b[0m         filtered_flat_args, captured_inputs=graph_function.captured_inputs)  # pylint: disable=protected-access\n\u001b[0;32m   3041\u001b[0m \u001b[1;33m\u001b[0m\u001b[0m\n",
      "\u001b[1;32mC:\\anaconda\\lib\\site-packages\\tensorflow\\python\\eager\\function.py\u001b[0m in \u001b[0;36m_call_flat\u001b[1;34m(self, args, captured_inputs, cancellation_manager)\u001b[0m\n\u001b[0;32m   1961\u001b[0m         and executing_eagerly):\n\u001b[0;32m   1962\u001b[0m       \u001b[1;31m# No tape is watching; skip to running the function.\u001b[0m\u001b[1;33m\u001b[0m\u001b[1;33m\u001b[0m\u001b[1;33m\u001b[0m\u001b[0m\n\u001b[1;32m-> 1963\u001b[1;33m       return self._build_call_outputs(self._inference_function.call(\n\u001b[0m\u001b[0;32m   1964\u001b[0m           ctx, args, cancellation_manager=cancellation_manager))\n\u001b[0;32m   1965\u001b[0m     forward_backward = self._select_forward_and_backward_functions(\n",
      "\u001b[1;32mC:\\anaconda\\lib\\site-packages\\tensorflow\\python\\eager\\function.py\u001b[0m in \u001b[0;36mcall\u001b[1;34m(self, ctx, args, cancellation_manager)\u001b[0m\n\u001b[0;32m    589\u001b[0m       \u001b[1;32mwith\u001b[0m \u001b[0m_InterpolateFunctionError\u001b[0m\u001b[1;33m(\u001b[0m\u001b[0mself\u001b[0m\u001b[1;33m)\u001b[0m\u001b[1;33m:\u001b[0m\u001b[1;33m\u001b[0m\u001b[1;33m\u001b[0m\u001b[0m\n\u001b[0;32m    590\u001b[0m         \u001b[1;32mif\u001b[0m \u001b[0mcancellation_manager\u001b[0m \u001b[1;32mis\u001b[0m \u001b[1;32mNone\u001b[0m\u001b[1;33m:\u001b[0m\u001b[1;33m\u001b[0m\u001b[1;33m\u001b[0m\u001b[0m\n\u001b[1;32m--> 591\u001b[1;33m           outputs = execute.execute(\n\u001b[0m\u001b[0;32m    592\u001b[0m               \u001b[0mstr\u001b[0m\u001b[1;33m(\u001b[0m\u001b[0mself\u001b[0m\u001b[1;33m.\u001b[0m\u001b[0msignature\u001b[0m\u001b[1;33m.\u001b[0m\u001b[0mname\u001b[0m\u001b[1;33m)\u001b[0m\u001b[1;33m,\u001b[0m\u001b[1;33m\u001b[0m\u001b[1;33m\u001b[0m\u001b[0m\n\u001b[0;32m    593\u001b[0m               \u001b[0mnum_outputs\u001b[0m\u001b[1;33m=\u001b[0m\u001b[0mself\u001b[0m\u001b[1;33m.\u001b[0m\u001b[0m_num_outputs\u001b[0m\u001b[1;33m,\u001b[0m\u001b[1;33m\u001b[0m\u001b[1;33m\u001b[0m\u001b[0m\n",
      "\u001b[1;32mC:\\anaconda\\lib\\site-packages\\tensorflow\\python\\eager\\execute.py\u001b[0m in \u001b[0;36mquick_execute\u001b[1;34m(op_name, num_outputs, inputs, attrs, ctx, name)\u001b[0m\n\u001b[0;32m     57\u001b[0m   \u001b[1;32mtry\u001b[0m\u001b[1;33m:\u001b[0m\u001b[1;33m\u001b[0m\u001b[1;33m\u001b[0m\u001b[0m\n\u001b[0;32m     58\u001b[0m     \u001b[0mctx\u001b[0m\u001b[1;33m.\u001b[0m\u001b[0mensure_initialized\u001b[0m\u001b[1;33m(\u001b[0m\u001b[1;33m)\u001b[0m\u001b[1;33m\u001b[0m\u001b[1;33m\u001b[0m\u001b[0m\n\u001b[1;32m---> 59\u001b[1;33m     tensors = pywrap_tfe.TFE_Py_Execute(ctx._handle, device_name, op_name,\n\u001b[0m\u001b[0;32m     60\u001b[0m                                         inputs, attrs, num_outputs)\n\u001b[0;32m     61\u001b[0m   \u001b[1;32mexcept\u001b[0m \u001b[0mcore\u001b[0m\u001b[1;33m.\u001b[0m\u001b[0m_NotOkStatusException\u001b[0m \u001b[1;32mas\u001b[0m \u001b[0me\u001b[0m\u001b[1;33m:\u001b[0m\u001b[1;33m\u001b[0m\u001b[1;33m\u001b[0m\u001b[0m\n",
      "\u001b[1;31mKeyboardInterrupt\u001b[0m: "
     ]
    }
   ],
   "source": [
    "history = model.fit(TrainX, TrainY, epochs=500,validation_split=0.05, verbose=1)"
   ]
  },
  {
   "cell_type": "markdown",
   "id": "d5440936",
   "metadata": {},
   "source": [
    "##### Saving and/or loading the model"
   ]
  },
  {
   "cell_type": "code",
   "execution_count": 94,
   "id": "73d79099",
   "metadata": {},
   "outputs": [],
   "source": [
    "#model.save(r'C:\\Users\\Ryan\\Desktop\\Research\\Experiment1_oversampled_model')\n",
    "model = keras.models.load_model(r'C:\\Users\\Ryan\\Desktop\\Research\\Experiment1_oversampled_model')"
   ]
  },
  {
   "cell_type": "markdown",
   "id": "ed92e7ce",
   "metadata": {},
   "source": [
    "##### Making predictions using model"
   ]
  },
  {
   "cell_type": "code",
   "execution_count": 62,
   "id": "2600d89b",
   "metadata": {},
   "outputs": [
    {
     "data": {
      "text/plain": [
       "array([[ 0.50990576],\n",
       "       [-0.06501304],\n",
       "       [-0.67870355],\n",
       "       ...,\n",
       "       [-0.2828486 ],\n",
       "       [-0.6284602 ],\n",
       "       [-0.5240265 ]], dtype=float32)"
      ]
     },
     "execution_count": 62,
     "metadata": {},
     "output_type": "execute_result"
    }
   ],
   "source": [
    "preds = model.predict(TrainX)\n",
    "preds.shape\n",
    "preds"
   ]
  },
  {
   "cell_type": "code",
   "execution_count": 63,
   "id": "cd08fb09",
   "metadata": {},
   "outputs": [
    {
     "name": "stdout",
     "output_type": "stream",
     "text": [
      "Range: 9.851995900465045\n",
      "Max: 9.190454404113039\n",
      "Min: -0.6615414963520063\n"
     ]
    }
   ],
   "source": [
    "r = np.ptp(TrainY)\n",
    "print(\"Range:\", r)\n",
    "print(\"Max:\",max(TrainY))\n",
    "print(\"Min:\",min(TrainY))"
   ]
  },
  {
   "cell_type": "code",
   "execution_count": 64,
   "id": "00b9be54",
   "metadata": {},
   "outputs": [
    {
     "name": "stdout",
     "output_type": "stream",
     "text": [
      "60/60 [==============================] - 0s 3ms/step - loss: 0.0204\n"
     ]
    }
   ],
   "source": [
    "results = model.evaluate(TestX, TestY)"
   ]
  },
  {
   "cell_type": "markdown",
   "id": "1c1462c5",
   "metadata": {},
   "source": [
    "## Evaluation of model performance and visualization of results"
   ]
  },
  {
   "cell_type": "code",
   "execution_count": 65,
   "id": "3766ba0b",
   "metadata": {},
   "outputs": [
    {
     "data": {
      "text/plain": [
       "[<matplotlib.lines.Line2D at 0x2ba44072af0>]"
      ]
     },
     "execution_count": 65,
     "metadata": {},
     "output_type": "execute_result"
    },
    {
     "data": {
      "image/png": "[encoded data removed]",
      "text/plain": [
       "<Figure size 432x288 with 1 Axes>"
      ]
     },
     "metadata": {
      "needs_background": "light"
     },
     "output_type": "display_data"
    }
   ],
   "source": [
    "preds = model.predict(TrainX)\n",
    "TestY\n",
    "x_pts = np.arange(0,TrainX.shape[0],1)\n",
    "plt.plot(x_pts,preds)"
   ]
  },
  {
   "cell_type": "code",
   "execution_count": 66,
   "id": "ecdb8c5d",
   "metadata": {},
   "outputs": [
    {
     "data": {
      "text/plain": [
       "[<matplotlib.lines.Line2D at 0x2ba440347c0>]"
      ]
     },
     "execution_count": 66,
     "metadata": {},
     "output_type": "execute_result"
    },
    {
     "data": {
      "image/png": "[encoded data removed]",
      "text/plain": [
       "<Figure size 432x288 with 1 Axes>"
      ]
     },
     "metadata": {
      "needs_background": "light"
     },
     "output_type": "display_data"
    }
   ],
   "source": [
    "plt.plot(x_pts,TrainY)"
   ]
  },
  {
   "cell_type": "code",
   "execution_count": 67,
   "id": "a796ad21",
   "metadata": {},
   "outputs": [
    {
     "data": {
      "text/plain": [
       "(1904, 80)"
      ]
     },
     "execution_count": 67,
     "metadata": {},
     "output_type": "execute_result"
    }
   ],
   "source": [
    "TestX.shape"
   ]
  },
  {
   "cell_type": "markdown",
   "id": "00a51090",
   "metadata": {},
   "source": [
    "##### Plot of predicted values (before scaling back)"
   ]
  },
  {
   "cell_type": "code",
   "execution_count": 68,
   "id": "ec9b2bca",
   "metadata": {},
   "outputs": [
    {
     "data": {
      "text/plain": [
       "[<matplotlib.lines.Line2D at 0x2ba834babb0>]"
      ]
     },
     "execution_count": 68,
     "metadata": {},
     "output_type": "execute_result"
    },
    {
     "data": {
      "image/png": "[encoded data removed]",
      "text/plain": [
       "<Figure size 432x288 with 1 Axes>"
      ]
     },
     "metadata": {
      "needs_background": "light"
     },
     "output_type": "display_data"
    }
   ],
   "source": [
    "TEST_preds = model.predict(TestX)\n",
    "x_pts = np.arange(0,TestY.shape[0] ,1)\n",
    "plt.plot(x_pts,TEST_preds)"
   ]
  },
  {
   "cell_type": "markdown",
   "id": "271210eb",
   "metadata": {},
   "source": [
    "##### Plot of true values (before scaling back)"
   ]
  },
  {
   "cell_type": "code",
   "execution_count": 69,
   "id": "014a3ee9",
   "metadata": {},
   "outputs": [
    {
     "data": {
      "text/plain": [
       "[<matplotlib.lines.Line2D at 0x2ba835054c0>]"
      ]
     },
     "execution_count": 69,
     "metadata": {},
     "output_type": "execute_result"
    },
    {
     "data": {
      "image/png": "[encoded data removed]",
      "text/plain": [
       "<Figure size 432x288 with 1 Axes>"
      ]
     },
     "metadata": {
      "needs_background": "light"
     },
     "output_type": "display_data"
    }
   ],
   "source": [
    "plt.plot(x_pts,TestY)"
   ]
  },
  {
   "cell_type": "markdown",
   "id": "1bb2db1b",
   "metadata": {},
   "source": [
    "##### Inverse transform"
   ]
  },
  {
   "cell_type": "code",
   "execution_count": 70,
   "id": "89f98e89",
   "metadata": {},
   "outputs": [],
   "source": [
    "TestY_final = scaler_2.inverse_transform(TestY.reshape(-1,1))\n",
    "TEST_preds_final = scaler_2.inverse_transform(TEST_preds.reshape(-1,1))\n",
    "TestY_final = TestY_final.reshape(-1)\n",
    "TEST_preds_final = TEST_preds_final.reshape(-1)\n",
    "\n",
    "for i in range(TEST_preds_final.shape[0]):\n",
    "    if TEST_preds_final[i] < 0:\n",
    "        TEST_preds_final[i] = 0   "
   ]
  },
  {
   "cell_type": "markdown",
   "id": "d14e954c",
   "metadata": {},
   "source": [
    "##### Plot of predicted values and true values (after scaling back)"
   ]
  },
  {
   "cell_type": "code",
   "execution_count": 96,
   "id": "8d9519e9",
   "metadata": {},
   "outputs": [
    {
     "data": {
      "text/plain": [
       "<function matplotlib.pyplot.legend(*args, **kwargs)>"
      ]
     },
     "execution_count": 96,
     "metadata": {},
     "output_type": "execute_result"
    },
    {
     "data": {
      "image/png": "[encoded data removed]",
      "text/plain": [
       "<Figure size 432x288 with 1 Axes>"
      ]
     },
     "metadata": {
      "needs_background": "light"
     },
     "output_type": "display_data"
    }
   ],
   "source": [
    "plt.plot(x_pts,TestY_final,TEST_preds_final)\n",
    "plt.legend"
   ]
  },
  {
   "cell_type": "markdown",
   "id": "626c05b3",
   "metadata": {},
   "source": [
    "##### Plot to show the margin of error between predicted values and true values in regression model"
   ]
  },
  {
   "cell_type": "code",
   "execution_count": 74,
   "id": "e94b64bf",
   "metadata": {},
   "outputs": [
    {
     "data": {
      "text/plain": [
       "Text(0.5, 1.0, 'Error within and outside tolerance value of 10')"
      ]
     },
     "execution_count": 74,
     "metadata": {},
     "output_type": "execute_result"
    },
    {
     "data": {
      "image/png": "[encoded data removed]",
      "text/plain": [
       "<Figure size 432x288 with 1 Axes>"
      ]
     },
     "metadata": {
      "needs_background": "light"
     },
     "output_type": "display_data"
    }
   ],
   "source": [
    "constant_10 = np.full(TestX.shape[0] ,10)\n",
    "constant_neg_10 = np.full(TestX.shape[0] ,-10)\n",
    "plt.plot(x_pts,TEST_preds_final-TestY_final,color='green')\n",
    "plt.plot(x_pts,constant_10,color=\"red\")\n",
    "plt.plot(x_pts,constant_neg_10,color='red')\n",
    "plt.xlabel(\"Index of predictions\")\n",
    "plt.ylabel(\"Difference between prediction and true values\")\n",
    "plt.title(\"Error within and outside tolerance value of 10\")"
   ]
  },
  {
   "cell_type": "code",
   "execution_count": 75,
   "id": "5f6c5408",
   "metadata": {},
   "outputs": [
    {
     "name": "stdout",
     "output_type": "stream",
     "text": [
      "The shape of the test predictions (1904,)\n",
      "The shape of the True values of test (1904,)\n",
      "The shape of the ML-model prediction values of Y (1904,)\n"
     ]
    }
   ],
   "source": [
    "TestY_final = TestY_final.reshape(-1)\n",
    "TEST_preds_final = TEST_preds_final.reshape(-1)\n",
    "print(\"The shape of the test predictions\",TEST_preds_final.shape)\n",
    "print(\"The shape of the True values of test\",TestY_final.shape)\n",
    "print(\"The shape of the ML-model prediction values of Y\",Test_old_pred.shape) "
   ]
  },
  {
   "cell_type": "markdown",
   "id": "299b79be",
   "metadata": {},
   "source": [
    "##### Calculation of accuracy in binary classification by MLP model"
   ]
  },
  {
   "cell_type": "code",
   "execution_count": 76,
   "id": "04c59156",
   "metadata": {},
   "outputs": [],
   "source": [
    "DL_binary_right_predition = 0\n",
    "DL_binary_wrong_predition = 0\n",
    "dl_threshold = 9\n",
    "for i in range(TEST_preds_final.shape[0]):\n",
    "    if ((TEST_preds_final[i] >= dl_threshold and TestY_final[i] >= 10) or (TEST_preds_final[i] < dl_threshold and TestY_final[i] < 10)):\n",
    "        DL_binary_right_predition+=1\n",
    "    else:\n",
    "        DL_binary_wrong_predition+=1"
   ]
  },
  {
   "cell_type": "code",
   "execution_count": 77,
   "id": "8df84bf2",
   "metadata": {},
   "outputs": [
    {
     "name": "stdout",
     "output_type": "stream",
     "text": [
      "Prediction  True\n",
      "12.274799    1.0\n",
      "30.899212    9.0\n",
      "14.704845    1.0\n",
      "17.551695    6.0\n",
      "17.135431    1.0\n",
      "11.40376    0.0\n",
      "12.65011    2.0\n",
      "13.504685    1.0\n",
      "11.064521    1.0\n",
      "25.954266    4.000000000000002\n",
      "29.825949    9.0\n",
      "26.918848    8.0\n",
      "21.479473    5.0\n",
      "20.502708    3.0000000000000018\n",
      "35.8616    9.0\n",
      "10.12229    0.0\n",
      "10.373798    0.0\n",
      "20.886553    9.0\n",
      "21.995726    3.0000000000000018\n",
      "17.007105    6.0\n"
     ]
    }
   ],
   "source": [
    "print(\"Prediction \", \"True\") \n",
    "for i in range(TEST_preds_final.shape[0]):\n",
    "    if not ((TEST_preds_final[i] >= dl_threshold and TestY_final[i] >= 10) or (TEST_preds_final[i] < dl_threshold and TestY_final[i] < 10)):\n",
    "        if (TEST_preds_final[i]-TestY_final[i] > 10):\n",
    "            print(TEST_preds_final[i],\"  \",TestY_final[i]) "
   ]
  },
  {
   "cell_type": "markdown",
   "id": "351034b5",
   "metadata": {},
   "source": [
    "##### *Calculation of balanced accuracy score by MLP model and random forest model"
   ]
  },
  {
   "cell_type": "code",
   "execution_count": 78,
   "id": "2d1374c0",
   "metadata": {},
   "outputs": [],
   "source": [
    "TestY_final.shape\n",
    "#TEST_preds_final.shape\n",
    "sample_weights = np.ones(TestY_final.shape[0])"
   ]
  },
  {
   "cell_type": "code",
   "execution_count": 79,
   "id": "89c53d49",
   "metadata": {},
   "outputs": [],
   "source": [
    "for i in range(TestY_final.shape[0]):\n",
    "    val = TestY_final[i] \n",
    "    if 10 < val < 25:\n",
    "        sample_weights[i] = 5\n",
    "    elif 25 < val < 50:\n",
    "        sample_weights[i] = 8\n",
    "    elif 50 < val < 100:\n",
    "        sample_weights[i] = 10\n",
    "    elif val > 100:\n",
    "        sample_weights[i] = 30"
   ]
  },
  {
   "cell_type": "code",
   "execution_count": 80,
   "id": "e14d60ec",
   "metadata": {},
   "outputs": [],
   "source": [
    "from sklearn.metrics import balanced_accuracy_score"
   ]
  },
  {
   "cell_type": "code",
   "execution_count": 81,
   "id": "1769d426",
   "metadata": {},
   "outputs": [],
   "source": [
    "TestY_final_bin = np.ones(TestY_final.shape[0])\n",
    "TestY_pred_bin = np.ones(TestY_final.shape[0])\n",
    "ML_pred = np.ones(TestY_final.shape[0])"
   ]
  },
  {
   "cell_type": "code",
   "execution_count": 82,
   "id": "e1451e4e",
   "metadata": {},
   "outputs": [],
   "source": [
    "for i in range(TestY_final.shape[0]):\n",
    "    if TestY_final[i]<10:\n",
    "        TestY_final_bin[i]=0\n",
    "    if TEST_preds_final[i]<10:\n",
    "        TestY_pred_bin[i]=0\n",
    "    if Test_old_pred[i]<0.5:\n",
    "        ML_pred[i] = 0"
   ]
  },
  {
   "cell_type": "markdown",
   "id": "8b8aa900",
   "metadata": {},
   "source": [
    "### The balanced accuracy score for our MLP model"
   ]
  },
  {
   "cell_type": "code",
   "execution_count": 83,
   "id": "8361f459",
   "metadata": {},
   "outputs": [
    {
     "data": {
      "text/plain": [
       "0.9112768458403366"
      ]
     },
     "execution_count": 83,
     "metadata": {},
     "output_type": "execute_result"
    }
   ],
   "source": [
    "balanced_accuracy_score(TestY_final_bin, TestY_pred_bin,sample_weight=sample_weights)\n"
   ]
  },
  {
   "cell_type": "markdown",
   "id": "4b4d651c",
   "metadata": {},
   "source": [
    "### The balanced accuracy score for the random forest model"
   ]
  },
  {
   "cell_type": "code",
   "execution_count": 84,
   "id": "9b9aae3f",
   "metadata": {},
   "outputs": [
    {
     "data": {
      "text/plain": [
       "0.7260730097002054"
      ]
     },
     "execution_count": 84,
     "metadata": {},
     "output_type": "execute_result"
    }
   ],
   "source": [
    "balanced_accuracy_score(TestY_final_bin, ML_pred,sample_weight=sample_weights)"
   ]
  },
  {
   "cell_type": "markdown",
   "id": "42882664",
   "metadata": {},
   "source": [
    "### The generic accuracy score of MLP model"
   ]
  },
  {
   "cell_type": "code",
   "execution_count": 85,
   "id": "345faad2",
   "metadata": {},
   "outputs": [
    {
     "name": "stdout",
     "output_type": "stream",
     "text": [
      "Deep learning accuracy is: 93.75\n"
     ]
    }
   ],
   "source": [
    "dl_acc = DL_binary_right_predition/TestY_final.shape[0] * 100\n",
    "print(\"Deep learning accuracy is:\", dl_acc)"
   ]
  },
  {
   "cell_type": "code",
   "execution_count": 86,
   "id": "621f2dcc",
   "metadata": {},
   "outputs": [],
   "source": [
    "ML_binary_right_predition = 0\n",
    "ML_binary_wrong_predition = 0\n",
    "ml_threshold = 0.5\n",
    "for i in range(TEST_preds_final.shape[0]):\n",
    "    if ((Test_old_pred[i] >= ml_threshold and TestY_final[i] > 10) or (Test_old_pred[i] < ml_threshold and TestY_final[i] < 10)):\n",
    "        ML_binary_right_predition+=1\n",
    "    else:\n",
    "        ML_binary_wrong_predition+=1"
   ]
  },
  {
   "cell_type": "markdown",
   "id": "0c5c5ae0",
   "metadata": {},
   "source": [
    "### The generic accuracy score of random forest model"
   ]
  },
  {
   "cell_type": "code",
   "execution_count": 87,
   "id": "c41003b3",
   "metadata": {},
   "outputs": [
    {
     "name": "stdout",
     "output_type": "stream",
     "text": [
      "Machine learning accuracy is: 87.44747899159664\n"
     ]
    }
   ],
   "source": [
    "ml_acc = ML_binary_right_predition/TestY_final.shape[0] * 100\n",
    "print(\"Machine learning accuracy is:\",ml_acc)"
   ]
  },
  {
   "cell_type": "code",
   "execution_count": 88,
   "id": "9d88f811",
   "metadata": {},
   "outputs": [
    {
     "data": {
      "text/plain": [
       "2.9936974789915967"
      ]
     },
     "execution_count": 88,
     "metadata": {},
     "output_type": "execute_result"
    }
   ],
   "source": [
    "DL_true_positive = 0\n",
    "DL_true_negative = 0\n",
    "DL_false_positive = 0\n",
    "DL_false_negative = 0\n",
    "dl_threshold = 10\n",
    "\n",
    "\n",
    "for i in range(TEST_preds_final.shape[0]):\n",
    "    \n",
    "    if (TEST_preds_final[i] >= dl_threshold and TestY_final[i] >= 10): \n",
    "        DL_true_positive+=1\n",
    "    \n",
    "    elif (TEST_preds_final[i] < dl_threshold and TestY_final[i] < 10):\n",
    "        DL_true_negative+=1\n",
    "        \n",
    "    elif (TEST_preds_final[i] >= dl_threshold and TestY_final[i] < 10):\n",
    "        DL_false_positive+=1\n",
    "        \n",
    "    else:\n",
    "        DL_false_negative+=1\n",
    "        \n",
    "DL_true_positive = DL_true_positive/TestY_final.shape[0] * 100\n",
    "DL_true_negative = DL_true_negative/TestY_final.shape[0] * 100\n",
    "DL_false_positive = DL_false_positive/TestY_final.shape[0] * 100\n",
    "DL_false_negative = DL_false_negative/TestY_final.shape[0] * 100\n",
    "DL_false_positive"
   ]
  },
  {
   "cell_type": "markdown",
   "id": "af56a450",
   "metadata": {},
   "source": [
    "##### Calculation of confusion matrix parameters of MLP and Random forest model"
   ]
  },
  {
   "cell_type": "code",
   "execution_count": 89,
   "id": "ff0289e3",
   "metadata": {},
   "outputs": [
    {
     "data": {
      "text/plain": [
       "2.100840336134454"
      ]
     },
     "execution_count": 89,
     "metadata": {},
     "output_type": "execute_result"
    }
   ],
   "source": [
    "ML_true_positive = 0\n",
    "ML_true_negative = 0\n",
    "ML_false_positive = 0\n",
    "ML_false_negative = 0\n",
    "ml_threshold = 0.5\n",
    "\n",
    "for i in range(TEST_preds_final.shape[0]):\n",
    "    \n",
    "    if (Test_old_pred[i] >= ml_threshold and TestY_final[i] >= 10): \n",
    "        ML_true_positive+=1\n",
    "    \n",
    "    elif (Test_old_pred[i] < ml_threshold and TestY_final[i] < 10):\n",
    "        ML_true_negative+=1\n",
    "        \n",
    "    elif (Test_old_pred[i] >= ml_threshold and TestY_final[i] < 10):\n",
    "        ML_false_positive+=1\n",
    "\n",
    "    else:\n",
    "        ML_false_negative+=1\n",
    "        \n",
    "ML_true_positive = ML_true_positive/TestY_final.shape[0] * 100\n",
    "ML_true_negative = ML_true_negative/TestY_final.shape[0] * 100\n",
    "ML_false_positive = ML_false_positive/TestY_final.shape[0] * 100\n",
    "ML_false_negative = ML_false_negative/TestY_final.shape[0] * 100\n",
    "ML_false_positive"
   ]
  },
  {
   "cell_type": "code",
   "execution_count": 90,
   "id": "a8a08683",
   "metadata": {},
   "outputs": [
    {
     "data": {
      "text/plain": [
       "10.241596638655462"
      ]
     },
     "execution_count": 90,
     "metadata": {},
     "output_type": "execute_result"
    }
   ],
   "source": [
    "ML_false_negative"
   ]
  },
  {
   "cell_type": "markdown",
   "id": "d591eee4",
   "metadata": {},
   "source": [
    "### Confusion matrix plot of MLP and random-forest models"
   ]
  },
  {
   "cell_type": "code",
   "execution_count": 91,
   "id": "2d8aa8c6",
   "metadata": {},
   "outputs": [
    {
     "data": {
      "image/png": "[encoded data removed]",
      "text/plain": [
       "<Figure size 432x288 with 1 Axes>"
      ]
     },
     "metadata": {
      "needs_background": "light"
     },
     "output_type": "display_data"
    }
   ],
   "source": [
    "import numpy as np \n",
    "import matplotlib.pyplot as plt \n",
    "  \n",
    "X = ['Accurate', 'Inaccurate' , 'TP','TN','FP','FN']\n",
    "dl = [dl_acc, (100 - dl_acc), DL_true_positive,DL_true_negative,DL_false_positive,DL_false_negative]\n",
    "ml = [ml_acc, (100 - ml_acc), ML_true_positive,ML_true_negative,ML_false_positive,ML_false_negative]\n",
    "  \n",
    "X_axis = np.arange(len(X))\n",
    "  \n",
    "plt.bar(X_axis - 0.1, dl, 0.2, label = 'MLP')\n",
    "plt.bar(X_axis + 0.1, ml, 0.2, label = 'Random Forest')\n",
    "  \n",
    "plt.xticks(X_axis, X)\n",
    "plt.xlabel(\"Evaluation metrics\")\n",
    "plt.ylabel(\"Accuracy\")\n",
    "plt.title(\"Confusion matrix\")\n",
    "plt.legend()\n",
    "plt.show()"
   ]
  },
  {
   "cell_type": "markdown",
   "id": "f09b74fe",
   "metadata": {},
   "source": [
    "### Generic accuracy score in the event of a multi-class classification for the MLP model"
   ]
  },
  {
   "cell_type": "code",
   "execution_count": 92,
   "id": "7dd4b708",
   "metadata": {},
   "outputs": [],
   "source": [
    "DL_0_to_10 = 0\n",
    "DL_10_to_25 = 0\n",
    "DL_25_to_50 = 0\n",
    "DL_50_to_100 = 0\n",
    "DL_above_100 = 0\n",
    "\n",
    "for i in range(TEST_preds_final.shape[0]):\n",
    "    \n",
    "    \n",
    "    if (0  <= TEST_preds_final[i] <= 10 and 0 <= TestY_final[i] <= 10):\n",
    "        DL_0_to_10+=1\n",
    "    \n",
    "    elif (10 < TEST_preds_final[i] <= 25 and 10 < TestY_final[i] <= 25): \n",
    "        DL_10_to_25+=1\n",
    "    \n",
    "    elif (25 < TEST_preds_final[i] <= 50 and 25 < TestY_final[i] <= 50):\n",
    "        DL_25_to_50+=1\n",
    "        \n",
    "    elif(50 < TEST_preds_final[i] <= 100 and 50 < TestY_final[i] <= 100):\n",
    "        DL_50_to_100+=1\n",
    "        \n",
    "    elif((100 < TEST_preds_final[i] and 100 < TestY_final[i])):\n",
    "        DL_above_100+=1"
   ]
  },
  {
   "cell_type": "code",
   "execution_count": 93,
   "id": "15bba39f",
   "metadata": {},
   "outputs": [
    {
     "data": {
      "text/plain": [
       "91.22899159663865"
      ]
     },
     "execution_count": 93,
     "metadata": {},
     "output_type": "execute_result"
    }
   ],
   "source": [
    "(DL_0_to_10 + DL_10_to_25 + DL_25_to_50 + DL_50_to_100 + DL_above_100) / TEST_preds_final.shape[0] * 100"
   ]
  }
 ],
 "metadata": {
  "kernelspec": {
   "display_name": "Python 3",
   "language": "python",
   "name": "python3"
  },
  "language_info": {
   "codemirror_mode": {
    "name": "ipython",
    "version": 3
   },
   "file_extension": ".py",
   "mimetype": "text/x-python",
   "name": "python",
   "nbconvert_exporter": "python",
   "pygments_lexer": "ipython3",
   "version": "3.8.8"
  }
 },
 "nbformat": 4,
 "nbformat_minor": 5
}
